{
 "cells": [
  {
   "cell_type": "code",
   "execution_count": 1,
   "metadata": {},
   "outputs": [],
   "source": [
    "import datetime\n",
    "import time\n",
    "import statistics\n",
    "\n",
    "import matplotlib.pyplot as plt\n",
    "import matplotlib.dates as mdates\n",
    "\n",
    "from sklearn import neighbors, svm\n",
    "from sklearn.ensemble import RandomForestClassifier\n",
    "from sklearn.metrics import precision_recall_curve, classification_report, confusion_matrix\n",
    "from sklearn.model_selection import train_test_split, cross_val_score\n",
    "\n",
    "import numpy as np\n",
    "import pandas as pd"
   ]
  },
  {
   "cell_type": "markdown",
   "metadata": {},
   "source": [
    "# Parse Data"
   ]
  },
  {
   "cell_type": "code",
   "execution_count": 2,
   "metadata": {},
   "outputs": [],
   "source": [
    "df = pd.read_csv('assignment-data/data_for_student_case.csv', dtype={'bin':str, 'amount':int})\n",
    "df = df.drop(['txid','bookingdate'], axis='columns')  # We are not interested in these columns (using booking date would be cheating)\n",
    "df = df.rename(index=str, columns={'issuercountrycode':'issuercountry', \n",
    "                                   'bin':'issuer_id', \n",
    "                                   'shoppercountrycode':'shoppercountry', \n",
    "                                   'shopperinteraction':'interaction', \n",
    "                                   'cardverificationcodesupplied':'verification', \n",
    "                                   'cvcresponsecode':'cvcresponse', \n",
    "                                   'creationdate':'creationdate_stamp', \n",
    "                                   'simple_journal':'label'})  # Use column names which are more recognizable\n",
    "\n",
    "# Skip data if:\n",
    "df = df[df['label']!='Refused']\n",
    "df = df[~df['issuer_id'].str.contains('na', case=False)]\n",
    "df = df[~df['mail_id'].str.contains('na', case=False)]\n",
    "\n",
    "# Create and format (new) columns\n",
    "df['creationdate'] = (pd.to_datetime(df['creationdate_stamp'])).dt.date\n",
    "df['mail_id'] = pd.to_numeric(df['mail_id'].str.replace('email','')).astype(int)\n",
    "df['ip_id'] = pd.to_numeric(df['ip_id'].str.replace('ip','')).astype(int)\n",
    "df['card_id'] = pd.to_numeric(df['card_id'].str.replace('card','')).astype(int)\n",
    "\n",
    "# Label the data\n",
    "df['label'] = df['label'].apply(lambda x: '1' if x == 'Chargeback' else '0')\n",
    "\n",
    "df.loc[df['shoppercountry'] == df['issuercountry'], 'home_country'] = 1\n",
    "df.loc[df['shoppercountry'] != df['issuercountry'], 'home_country'] = 0\n"
   ]
  },
  {
   "cell_type": "markdown",
   "metadata": {},
   "source": [
    "# Preprocess Data"
   ]
  },
  {
   "cell_type": "code",
   "execution_count": 3,
   "metadata": {},
   "outputs": [
    {
     "name": "stdout",
     "output_type": "stream",
     "text": [
      "Total amount: 236698\n",
      "Number of fraudulent cases: 345\n",
      "Number of benign cases: 236353\n"
     ]
    }
   ],
   "source": [
    "print(\"Total amount:\", len(df))\n",
    "fraud = df[df['label']=='1']\n",
    "number_of_fraudulent_cases = len(fraud)\n",
    "print(\"Number of fraudulent cases:\", number_of_fraudulent_cases)\n",
    "benign = df[df['label']=='0']\n",
    "number_of_benign_cases = len(benign)\n",
    "print(\"Number of benign cases:\", number_of_benign_cases)"
   ]
  },
  {
   "cell_type": "code",
   "execution_count": 4,
   "metadata": {},
   "outputs": [
    {
     "name": "stdout",
     "output_type": "stream",
     "text": [
      "0.02904976877805655\n",
      "0.04057971014492753\n"
     ]
    }
   ],
   "source": [
    "not_same_country_benign = benign[benign['home_country'] != 1]\n",
    "not_same_country_fraud = fraud[fraud['home_country'] != 1]\n",
    "print(len(not_same_country_benign) / len(benign))\n",
    "print(len(not_same_country_fraud) / len(fraud))"
   ]
  },
  {
   "cell_type": "code",
   "execution_count": 5,
   "metadata": {},
   "outputs": [
    {
     "ename": "SyntaxError",
     "evalue": "invalid syntax (<ipython-input-5-e8243c74e9b8>, line 28)",
     "output_type": "error",
     "traceback": [
      "\u001b[0;36m  File \u001b[0;32m\"<ipython-input-5-e8243c74e9b8>\"\u001b[0;36m, line \u001b[0;32m28\u001b[0m\n\u001b[0;31m    number_transactions_currency = df.groupby('card_id', 'currencycode')['amount'].agg('count').reset_index(): 'ntc'})\u001b[0m\n\u001b[0m                                                                                                             ^\u001b[0m\n\u001b[0;31mSyntaxError\u001b[0m\u001b[0;31m:\u001b[0m invalid syntax\n"
     ]
    }
   ],
   "source": [
    "converter = {\n",
    "    'AUD': 0.702495,\n",
    "    'GBP': 1.305505,\n",
    "    'MXN': 0.05274,\n",
    "    'NZD': 0.6632,\n",
    "    'SEK': 0.104965\n",
    "}\n",
    "\n",
    "\n",
    "# Function that can take two input values (amount, currency) and convert it to USD (using current ratios, not historic ones)\n",
    "def convert_to_usd(args):\n",
    "    amount, currency = args\n",
    "    return converter[currency] * amount / 100\n",
    "\n",
    "# Create a new column containing the transaction amount in USD to be able to compare the transaction amounts.\n",
    "df['usd_amount'] = df[['amount', 'currencycode']].apply(convert_to_usd, axis=1)\n",
    "\n",
    "# Create new dataframe with average expense per customer\n",
    "avg_expense = df.groupby('card_id')['usd_amount'].mean().reset_index().rename(columns={'usd_amount': 'avg_amount'})\n",
    "# Merge this new dataframe with our parsed dataset to obtain a column with average amounts\n",
    "df = pd.merge(df, avg_expense, on='card_id')\n",
    "# We are actually mainly interested in the difference between \n",
    "# the average transaction amount of this customer and the current transaction amount.\n",
    "df['dif_avg_amount'] = df['usd_amount'] - df['avg_amount']\n",
    "\n",
    "\n",
    "# Number of transactions in this currency\n",
    "number_transactions_currency = df.groupby('card_id', 'currencycode')['amount'].agg('count').reset_index()\n",
    "df = pd.merge(df, avg_expense, on='card_id')\n",
    "df['dif_ntc'] = df['usd_amount'] - df['avg_amount']\n",
    "# Number of transactions in this country\n",
    "# Average amount same merchant\n",
    "# Number same merchant\n",
    "\n"
   ]
  },
  {
   "cell_type": "markdown",
   "metadata": {},
   "source": [
    "# Find interesting relationships in the data"
   ]
  },
  {
   "cell_type": "code",
   "execution_count": null,
   "metadata": {},
   "outputs": [],
   "source": [
    "# The raw amounts from the fraud/benign transactions per country were further \n",
    "# processed in libre office to produce the graphs contained in the report (due to bug in pandas for python < 3.7).\n",
    "amount_fraud_per_country = fraud.groupby('shoppercountry')['amount'].agg(['count']).reset_index()\n",
    "fraudulent_countries = list(amount_fraud_per_country['shoppercountry'])\n",
    "amount_fraud_per_country.plot()\n",
    "\n",
    "amount_benign_per_country = benign.groupby('shoppercountry')['amount'].agg(['count']).reset_index()\n",
    "amount_benign_per_country = amount_benign_per_country[pd.DataFrame(amount_benign_per_country.shoppercountry.tolist()).isin(fraudulent_countries).any(1)]\n",
    "amount_benign_per_country.plot()"
   ]
  },
  {
   "cell_type": "code",
   "execution_count": null,
   "metadata": {},
   "outputs": [],
   "source": [
    "# Calculate average transaction amounts.\n",
    "avg_usd_amount_fraud = statistics.mean(fraud['usd_amount'])\n",
    "avg_usd_amount_benign = statistics.mean(benign['usd_amount'])\n",
    "print(\"Average amount in USD for the fraudulent cases:\", avg_usd_amount_fraud)\n",
    "print(\"Average amount in USD for the benign cases:\", avg_usd_amount_benign)"
   ]
  }
 ],
 "metadata": {
  "kernelspec": {
   "display_name": "Python 3",
   "language": "python",
   "name": "python3"
  },
  "language_info": {
   "codemirror_mode": {
    "name": "ipython",
    "version": 3
   },
   "file_extension": ".py",
   "mimetype": "text/x-python",
   "name": "python",
   "nbconvert_exporter": "python",
   "pygments_lexer": "ipython3",
   "version": "3.6.7"
  }
 },
 "nbformat": 4,
 "nbformat_minor": 2
}
