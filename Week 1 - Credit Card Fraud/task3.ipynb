{
 "cells": [
  {
   "cell_type": "markdown",
   "metadata": {},
   "source": [
    "# Task 3 - Processing data - K-folding - Precision Recall Curve"
   ]
  },
  {
   "cell_type": "markdown",
   "metadata": {},
   "source": [
    "# Manage Imports"
   ]
  },
  {
   "cell_type": "code",
   "execution_count": 1,
   "metadata": {},
   "outputs": [],
   "source": [
    "import numpy as np\n",
    "import pandas as pd\n",
    "\n",
    "import matplotlib.pyplot as plt\n",
    "import matplotlib.dates as mdates\n",
    "import seaborn as sns\n",
    "\n",
    "from imblearn.over_sampling import SMOTE as smote\n",
    "from imblearn.under_sampling import RandomUnderSampler, TomekLinks, NearMiss, AllKNN, EditedNearestNeighbours\n",
    "from imblearn.combine import SMOTETomek, SMOTEENN\n",
    "from imblearn.ensemble import BalancedBaggingClassifier, BalancedRandomForestClassifier\n",
    "\n",
    "from sklearn.metrics import precision_recall_curve, classification_report, confusion_matrix, roc_curve, auc, average_precision_score\n",
    "from sklearn.model_selection import train_test_split, cross_val_score, cross_val_predict, KFold\n",
    "\n",
    "from sklearn.tree import DecisionTreeClassifier, export_graphviz\n",
    "from sklearn.neighbors import KNeighborsClassifier\n",
    "from sklearn.ensemble import RandomForestClassifier, AdaBoostClassifier, GradientBoostingClassifier, VotingClassifier, BaggingClassifier\n",
    "from sklearn.naive_bayes import GaussianNB\n",
    "from sklearn.neural_network import MLPClassifier"
   ]
  },
  {
   "cell_type": "markdown",
   "metadata": {},
   "source": [
    "# Parsing data"
   ]
  },
  {
   "cell_type": "code",
   "execution_count": 2,
   "metadata": {},
   "outputs": [],
   "source": [
    "#Parse CSV file\n",
    "data = pd.read_csv('assignment-data/data_for_student_case.csv', dtype={'bin':str, 'amount':int}, na_filter=False)\n",
    "\n",
    "# Skip data if:\n",
    "data = data[data['simple_journal']!='Refused']\n",
    "data = data[~data['bin'].str.contains('na', case=False)]\n",
    "data = data[~data['mail_id'].str.contains('na', case=False)]\n",
    "\n",
    "# Drop some columns\n",
    "data.drop(columns = ['bookingdate', 'creationdate', 'txid'], inplace=True)\n",
    "\n",
    "# Rename some columns\n",
    "data = data.rename(index=str, columns={'bin':'issuer_id', \n",
    "                                       'issuercountrycode':'issuercountry', \n",
    "                                       'shoppercountrycode':'shoppercountry', \n",
    "                                       'cardverificationcodesupplied':'verification', \n",
    "                                       'cvcresponsecode':'cvcresponse', \n",
    "                                       'shopperinteraction' : 'interaction', \n",
    "                                       'simple_journal':'label'})\n",
    "\n",
    "# Parse data to new types\n",
    "data['card_id'] = pd.to_numeric(data['card_id'].str.replace('card','')).astype(int)\n",
    "data['issuer_id'] = pd.to_numeric(data['issuer_id'])\n",
    "data['mail_id'] = pd.to_numeric(data['mail_id'].str.replace('email','')).astype(int)\n",
    "data['ip_id'] = pd.to_numeric(data['ip_id'].str.replace('ip','')).astype(int)\n",
    "data['interaction'] = pd.to_numeric(data['interaction'].apply(lambda x: '1' if x == 'ContAuth' else '0'))\n",
    "data['verification'] = pd.to_numeric(data['verification'].apply(lambda x: '1' if x else '0'))\n",
    "data['label'] = pd.to_numeric(data['label'].apply(lambda x: '1' if x == 'Chargeback' else '0'))"
   ]
  },
  {
   "cell_type": "markdown",
   "metadata": {},
   "source": [
    "# Preprocess data"
   ]
  },
  {
   "cell_type": "markdown",
   "metadata": {},
   "source": [
    "### Creating new features that are indepentent of time and other transaction"
   ]
  },
  {
   "cell_type": "code",
   "execution_count": 3,
   "metadata": {},
   "outputs": [],
   "source": [
    "# Check if issuercountry and shoppercountry are equal\n",
    "data.loc[data['shoppercountry'] == data['issuercountry'], 'home_country'] = 1\n",
    "data.loc[data['shoppercountry'] != data['issuercountry'], 'home_country'] = 0\n",
    "\n",
    "# Dollar conversion rate\n",
    "converter = {\n",
    "    'AUD': 0.702495,\n",
    "    'GBP': 1.305505,\n",
    "    'MXN': 0.05274,\n",
    "    'NZD': 0.6632,\n",
    "    'SEK': 0.104965\n",
    "}\n",
    "\n",
    "# Function that can take two input values (amount, currency) and convert it to USD (using current ratios, not historic ones)\n",
    "def convert_to_usd(args):\n",
    "    amount, currency = args\n",
    "    return converter[currency] * amount / 100\n",
    "\n",
    "# Create a new column containing the transaction amount in USD to be able to compare the transaction amounts.\n",
    "data['amount'] = data[['amount', 'currencycode']].apply(convert_to_usd, axis=1)"
   ]
  },
  {
   "cell_type": "markdown",
   "metadata": {},
   "source": [
    "### Convert categorial data to integers"
   ]
  },
  {
   "cell_type": "code",
   "execution_count": 4,
   "metadata": {},
   "outputs": [],
   "source": [
    "# Merge list of issuer and shopper countries so we have same categories for both lists\n",
    "countries = pd.concat([data[['issuercountry','amount']].rename(columns = {\"issuercountry\": \"country\"}), data[['shoppercountry','amount']].rename(columns = {\"shoppercountry\": \"country\"})])\n",
    "countries = countries.groupby('country')['amount'].agg(['count']).reset_index()\n",
    "countries = countries['country'].tolist()\n",
    "countries_type = pd.api.types.CategoricalDtype(categories=countries)\n",
    "data['shoppercountry'] = data['shoppercountry'].astype(countries_type).cat.codes\n",
    "data['issuercountry'] = data['issuercountry'].astype(countries_type).cat.codes\n",
    "\n",
    "#Convert txvariantcode to int\n",
    "txvariant = data.groupby('txvariantcode')['amount'].agg(['count']).reset_index()\n",
    "txvariant = txvariant['txvariantcode'].tolist()\n",
    "txvariant_type = pd.api.types.CategoricalDtype(categories=txvariant)\n",
    "data['txvariantcode'] = data['txvariantcode'].astype(txvariant_type).cat.codes\n",
    "\n",
    "# Convert accountcode to int\n",
    "accounttype = data.groupby('accountcode')['amount'].agg(['count']).reset_index()\n",
    "accounttype = accounttype['accountcode'].tolist()\n",
    "accounttype_type = pd.api.types.CategoricalDtype(categories=accounttype)\n",
    "data['accountcode'] = data['accountcode'].astype(accounttype_type).cat.codes\n",
    "\n",
    "# Convert currencycode to int\n",
    "currency = data.groupby('currencycode')['amount'].agg(['count']).reset_index()\n",
    "currency = currency['currencycode'].tolist()\n",
    "currency_type = pd.api.types.CategoricalDtype(categories=currency)\n",
    "data['currencycode'] = data['currencycode'].astype(currency_type).cat.codes"
   ]
  },
  {
   "cell_type": "markdown",
   "metadata": {},
   "source": [
    "## In-process data aggregation method"
   ]
  },
  {
   "cell_type": "code",
   "execution_count": 5,
   "metadata": {},
   "outputs": [],
   "source": [
    "def calculate_features(data_train, data_test):\n",
    "    #calculate average expense per card and overall based on training set\n",
    "    avg_expense = data_train.groupby('card_id')['amount'].mean().reset_index().rename(columns={'amount': 'avg_amount'})\n",
    "    avg_expense_overall = data_train['amount'].mean()\n",
    "    \n",
    "    # Merge avarages with training and test set (test set has no influence on training set this way)\n",
    "    data_train = pd.merge(data_train, avg_expense, on='card_id', how='left')\n",
    "    data_test = pd.merge(data_test, avg_expense, on='card_id', how='left')\n",
    "    data_test['avg_amount'].fillna(avg_expense_overall, inplace=True)\n",
    "    \n",
    "    # Calculate difference between avarages and expenses for training and test set\n",
    "    data_train['dif_avg_amount'] = data_train['amount'] - data_train['avg_amount']\n",
    "    data_test['dif_avg_amount'] = data_test['amount'] - data_test['avg_amount']\n",
    "    \n",
    "    # Number of transactions in this country based on training set\n",
    "    ntc = data_train.groupby(['card_id', 'shoppercountry'])['amount'].agg(['count']).reset_index().rename(columns={'count': 'ntc'})\n",
    "    ntc_overall = data_train.groupby(['shoppercountry', 'card_id'])['amount'].agg(['count'])\n",
    "    ntc_overall = ntc_overall.groupby(['shoppercountry'])['count'].mean()\n",
    "    \n",
    "    # Merge numer of transactions per country with training and test set (test set has no influence on training set this way)\n",
    "    data_train = pd.merge(data_train, ntc, on=['card_id', 'shoppercountry'], how='left')\n",
    "    data_test = pd.merge(data_test, ntc, on=['card_id', 'shoppercountry'], how='left')\n",
    "    data_test['ntc'].fillna(0, inplace=True)\n",
    "    \n",
    "    # Number of transactions for this interaction based on training set\n",
    "    nti = data_train.groupby(['card_id', 'interaction'])['amount'].agg(['count']).reset_index().rename(columns={'count': 'nti'})\n",
    "    nti_overall = data_train.groupby(['interaction', 'card_id'])['amount'].agg(['count'])\n",
    "    nti_overall = nti_overall.groupby(['interaction'])['count'].mean()\n",
    "    \n",
    "    # Merge numer of transactions per interaction with training and test set (test set has no influence on training set this way)\n",
    "    data_train = pd.merge(data_train, nti, on=['card_id', 'interaction'], how='left')\n",
    "    data_test = pd.merge(data_test, nti, on=['card_id', 'interaction'], how='left')\n",
    "    data_test['nti'].fillna(0, inplace=True)\n",
    "        \n",
    "    return data_train, data_test"
   ]
  },
  {
   "cell_type": "markdown",
   "metadata": {},
   "source": [
    "# KFold method including sampling and PR-curve"
   ]
  },
  {
   "cell_type": "code",
   "execution_count": 6,
   "metadata": {},
   "outputs": [],
   "source": [
    "\"\"\"\n",
    "This takes k folds, executes the sampling if a sampler is provided, \n",
    "calculates custom features on the training data,\n",
    "and plots the PR curve of the specified Classifier.\n",
    "\"\"\"\n",
    "def KFold_PRC(data, folds, classifier,sampling=None):\n",
    "    kf = KFold(n_splits = folds, shuffle = True)\n",
    "\n",
    "    prob_lbl = []\n",
    "    decision_lbl = []\n",
    "    original_lbl = []\n",
    "\n",
    "    for i, (i_train, i_test) in enumerate(kf.split(data)):\n",
    "#         print(\"Fold: \", i+1)\n",
    "        train_ft = data.iloc[i_train].drop(columns = ['label'])\n",
    "        test_ft =  data.iloc[i_test].drop(columns = ['label'])\n",
    "        train_lbl = data.iloc[i_train]['label']\n",
    "        test_lbl = data.iloc[i_test]['label']\n",
    "        \n",
    "        #calculate features based on training set\n",
    "        train_ft, test_ft = calculate_features(train_ft, test_ft)\n",
    "\n",
    "        # perform sampling if sampler is given\n",
    "        if sampling:\n",
    "            train_ft_sample, train_lbl_sample = sampling.fit_sample(train_ft,train_lbl)\n",
    "            classifier.fit(train_ft_sample, train_lbl_sample)\n",
    "        else:\n",
    "            classifier.fit(train_ft, train_lbl)\n",
    "\n",
    "        # Add results to arrays\n",
    "        decision_lbl.extend(classifier.predict(test_ft))\n",
    "        prob_lbl.extend(classifier.predict_proba(test_ft)[:,1])\n",
    "        original_lbl.extend(test_lbl)\n",
    "\n",
    "\n",
    "    # Calculate precision and recall\n",
    "    average_precision = average_precision_score(original_lbl, prob_lbl)\n",
    "    precision, recall, _ = precision_recall_curve(original_lbl, prob_lbl)\n",
    "    \n",
    "    cm = confusion_matrix(original_lbl, decision_lbl)\n",
    "    print(cm)\n",
    "\n",
    "    fig = plt.figure()\n",
    "    plt.step(recall, precision, color='b', alpha=0.2, where='post')\n",
    "    plt.fill_between(recall, precision, step='post', alpha=0.2,color='b')    \n",
    "    plt.xlabel('Recall')\n",
    "    plt.ylabel('Precision')\n",
    "    plt.ylim([0.0, 1.05])\n",
    "    plt.xlim([0.0, 1.0])\n",
    "    plt.title('2-class Precision-Recall curve: AP=%f' %(average_precision))\n",
    "    plt.show()"
   ]
  },
  {
   "cell_type": "markdown",
   "metadata": {},
   "source": [
    "# Black box classifier"
   ]
  },
  {
   "cell_type": "code",
   "execution_count": 7,
   "metadata": {},
   "outputs": [
    {
     "name": "stdout",
     "output_type": "stream",
     "text": [
      "[[236174    179]\n",
      " [   305     40]]\n"
     ]
    },
    {
     "data": {
      "image/png": "[encoded data removed]",
      "text/plain": [
       "<Figure size 432x288 with 1 Axes>"
      ]
     },
     "metadata": {
      "needs_background": "light"
     },
     "output_type": "display_data"
    }
   ],
   "source": [
    "classifier = RandomForestClassifier(n_estimators=10)\n",
    "sm = smote(sampling_strategy = 'minority')\n",
    "KFold_PRC(data, 10, classifier,sm)"
   ]
  },
  {
   "cell_type": "markdown",
   "metadata": {},
   "source": [
    "# White box classifier"
   ]
  },
  {
   "cell_type": "code",
   "execution_count": 8,
   "metadata": {},
   "outputs": [
    {
     "name": "stdout",
     "output_type": "stream",
     "text": [
      "[[235139   1214]\n",
      " [   292     53]]\n"
     ]
    },
    {
     "data": {
      "image/png": "[encoded data removed]",
      "text/plain": [
       "<Figure size 432x288 with 1 Axes>"
      ]
     },
     "metadata": {
      "needs_background": "light"
     },
     "output_type": "display_data"
    }
   ],
   "source": [
    "classifier = DecisionTreeClassifier()\n",
    "sm = smote(sampling_strategy = 'minority')\n",
    "KFold_PRC(data, 10, classifier, sm)"
   ]
  }
 ],
 "metadata": {
  "kernelspec": {
   "display_name": "Python 3",
   "language": "python",
   "name": "python3"
  },
  "language_info": {
   "codemirror_mode": {
    "name": "ipython",
    "version": 3
   },
   "file_extension": ".py",
   "mimetype": "text/x-python",
   "name": "python",
   "nbconvert_exporter": "python",
   "pygments_lexer": "ipython3",
   "version": "3.7.3"
  }
 },
 "nbformat": 4,
 "nbformat_minor": 2
}
