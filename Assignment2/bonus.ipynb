{
 "cells": [
  {
   "cell_type": "markdown",
   "metadata": {},
   "source": [
    "# Autoencoders for Anomaly Detection\n",
    "\n",
    "Based on the article at https://bit.ly/2VgNyl7, made for the bonus task of the cyber data analytics class. Download the data and adjust the paths in the next cells.\n",
    "\n",
    "Requires \n",
    "* seaborn\n",
    "* tensorflow\n",
    "* keras\n",
    "* sklearn\n",
    "* pyplot, pylab\n",
    "\n",
    "and for visualizing the network also the graphviz package. Install directly from the notebook with **!pip install package**"
   ]
  },
  {
   "cell_type": "code",
   "execution_count": 1,
   "metadata": {
    "ExecuteTime": {
     "end_time": "2019-05-27T22:04:28.416941Z",
     "start_time": "2019-05-27T22:04:28.406050Z"
    }
   },
   "outputs": [
    {
     "name": "stderr",
     "output_type": "stream",
     "text": [
      "Using TensorFlow backend.\n"
     ]
    }
   ],
   "source": [
    "%matplotlib inline\n",
    "import matplotlib.pyplot as plt\n",
    "import seaborn as sns\n",
    "\n",
    "import pandas as pd\n",
    "import numpy as np\n",
    "\n",
    "import tensorflow as tf\n",
    "from keras.models import Model, load_model\n",
    "from keras.layers import Input, Dense\n",
    "from keras.callbacks import ModelCheckpoint, TensorBoard\n",
    "from keras import regularizers\n",
    "\n",
    "from sklearn.preprocessing import StandardScaler\n",
    "from sklearn.model_selection import train_test_split\n",
    "from sklearn.metrics import confusion_matrix, precision_recall_curve\n",
    "from sklearn.metrics import recall_score, classification_report, auc, roc_curve\n",
    "from sklearn.metrics import precision_recall_fscore_support, f1_score\n",
    "\n",
    "from numpy.random import seed\n",
    "seed(1)\n",
    "from tensorflow import set_random_seed\n",
    "set_random_seed(2)\n",
    "\n",
    "SEED = 123 \n",
    "DATA_SPLIT_PCT = 0.2\n",
    "\n",
    "LABELS = [\"Normal\",\"Attack\"]\n",
    "\n",
    "# please adjust the dataset paths\n",
    "NORMAL = \"Data/training_1.csv\"\n",
    "MIXED = \"Data/training_2.csv\""
   ]
  },
  {
   "cell_type": "code",
   "execution_count": 2,
   "metadata": {
    "ExecuteTime": {
     "end_time": "2019-05-27T22:04:28.490859Z",
     "start_time": "2019-05-27T22:04:28.418839Z"
    }
   },
   "outputs": [],
   "source": [
    "df_normal =  pd.read_csv(NORMAL, skipinitialspace=True)\n",
    "df_mixed = pd.read_csv(MIXED, skipinitialspace=True)"
   ]
  },
  {
   "cell_type": "markdown",
   "metadata": {},
   "source": [
    "Harmonize the labels across the datasets to 0 / 1"
   ]
  },
  {
   "cell_type": "code",
   "execution_count": 3,
   "metadata": {
    "ExecuteTime": {
     "end_time": "2019-05-27T22:04:28.495346Z",
     "start_time": "2019-05-27T22:04:28.492085Z"
    }
   },
   "outputs": [],
   "source": [
    "df_mixed.ATT_FLAG.replace([-999, 1], [0, 1], inplace=True)"
   ]
  },
  {
   "cell_type": "markdown",
   "metadata": {},
   "source": [
    "Drop non-numeric columns, concatenate the dataframes.\n",
    "We train the autoencoder on the normal data from BATADAL_dataset03 and test on BATADAL_dataset04"
   ]
  },
  {
   "cell_type": "code",
   "execution_count": 4,
   "metadata": {
    "ExecuteTime": {
     "end_time": "2019-05-27T22:04:28.511711Z",
     "start_time": "2019-05-27T22:04:28.496963Z"
    }
   },
   "outputs": [],
   "source": [
    "df_normal = df_normal.drop(['DATETIME'], axis=1)\n",
    "df_mixed = df_mixed.drop(['DATETIME'], axis=1)\n",
    "\n",
    "df = pd.concat([df_normal, df_mixed], ignore_index=True)"
   ]
  },
  {
   "cell_type": "markdown",
   "metadata": {},
   "source": [
    "Splitting into training, validation, testing, group into classes"
   ]
  },
  {
   "cell_type": "code",
   "execution_count": 5,
   "metadata": {
    "ExecuteTime": {
     "end_time": "2019-05-27T22:04:28.527210Z",
     "start_time": "2019-05-27T22:04:28.513596Z"
    }
   },
   "outputs": [],
   "source": [
    "df_train, df_test = train_test_split(df, test_size=DATA_SPLIT_PCT, random_state=SEED)\n",
    "df_train, df_valid = train_test_split(df_train, test_size=DATA_SPLIT_PCT, random_state=SEED)"
   ]
  },
  {
   "cell_type": "code",
   "execution_count": 6,
   "metadata": {
    "ExecuteTime": {
     "end_time": "2019-05-27T22:04:28.545427Z",
     "start_time": "2019-05-27T22:04:28.528427Z"
    }
   },
   "outputs": [],
   "source": [
    "df_train_0 = df_train.loc[df['ATT_FLAG'] == 0]\n",
    "df_train_1 = df_train.loc[df['ATT_FLAG'] == 1]\n",
    "\n",
    "df_train_0_x = df_train_0.drop(['ATT_FLAG'], axis=1)\n",
    "df_train_1_x = df_train_1.drop(['ATT_FLAG'], axis=1)\n",
    "\n",
    "\n",
    "df_valid_0 = df_valid.loc[df['ATT_FLAG'] == 0]\n",
    "df_valid_1 = df_valid.loc[df['ATT_FLAG'] == 1]\n",
    "\n",
    "df_valid_0_x = df_valid_0.drop(['ATT_FLAG'], axis=1)\n",
    "df_valid_1_x = df_valid_1.drop(['ATT_FLAG'], axis=1)\n",
    "\n",
    "\n",
    "df_test_0 = df_test.loc[df['ATT_FLAG'] == 0]\n",
    "df_test_1 = df_test.loc[df['ATT_FLAG'] == 1]\n",
    "\n",
    "df_test_0_x = df_test_0.drop(['ATT_FLAG'], axis=1)\n",
    "df_test_1_x = df_test_1.drop(['ATT_FLAG'], axis=1)"
   ]
  },
  {
   "cell_type": "markdown",
   "metadata": {},
   "source": [
    "Scale the data"
   ]
  },
  {
   "cell_type": "code",
   "execution_count": 7,
   "metadata": {
    "ExecuteTime": {
     "end_time": "2019-05-27T22:04:28.564577Z",
     "start_time": "2019-05-27T22:04:28.547025Z"
    }
   },
   "outputs": [],
   "source": [
    "scaler = StandardScaler().fit(df_train_0_x)\n",
    "df_train_0_x_rescaled = scaler.transform(df_train_0_x)\n",
    "df_valid_0_x_rescaled = scaler.transform(df_valid_0_x)\n",
    "df_valid_x_rescaled = scaler.transform(df_valid.drop(['ATT_FLAG'], axis = 1))\n",
    "\n",
    "df_test_0_x_rescaled = scaler.transform(df_test_0_x)\n",
    "df_test_x_rescaled = scaler.transform(df_test.drop(['ATT_FLAG'], axis = 1))"
   ]
  },
  {
   "cell_type": "markdown",
   "metadata": {},
   "source": [
    "### Train the Network"
   ]
  },
  {
   "cell_type": "code",
   "execution_count": 8,
   "metadata": {
    "ExecuteTime": {
     "end_time": "2019-05-27T22:04:28.613962Z",
     "start_time": "2019-05-27T22:04:28.565802Z"
    },
    "scrolled": true
   },
   "outputs": [],
   "source": [
    "def train_neural_net_encoder(learning_rate=1e-3):\n",
    "    nb_epoch = 100\n",
    "    batch_size = 128\n",
    "    input_dim = df_train_0_x_rescaled.shape[1] #num of predictor variables, \n",
    "    encoding_dim = 16\n",
    "    hidden_dim = int(encoding_dim / 2)\n",
    "\n",
    "    input_layer = Input(shape=(input_dim, ))\n",
    "    encoder = Dense(encoding_dim, activation=\"tanh\", activity_regularizer=regularizers.l1(learning_rate))(input_layer)\n",
    "    encoder = Dense(hidden_dim, activation=\"relu\")(encoder)\n",
    "    decoder = Dense(hidden_dim, activation='tanh')(encoder)\n",
    "    decoder = Dense(input_dim, activation='relu')(decoder)\n",
    "    autoencoder = Model(inputs=input_layer, outputs=decoder)\n",
    "    \n",
    "    autoencoder.compile(metrics=['accuracy'],\n",
    "                    loss='mean_squared_error',\n",
    "                    optimizer='adam')\n",
    "\n",
    "    cp = ModelCheckpoint(filepath=\"autoencoder_classifier.h5\",\n",
    "                                   save_best_only=True,\n",
    "                                   verbose=0)\n",
    "\n",
    "    tb = TensorBoard(log_dir='./logs',\n",
    "                     histogram_freq=0,\n",
    "                     write_graph=True,\n",
    "                     write_images=True)\n",
    "\n",
    "    history = autoencoder.fit(df_train_0_x_rescaled, df_train_0_x_rescaled,\n",
    "                              epochs=nb_epoch,\n",
    "                              batch_size=batch_size,\n",
    "                              shuffle=True,\n",
    "                              validation_data=(df_valid_0_x_rescaled, df_valid_0_x_rescaled),\n",
    "                              verbose=0,\n",
    "                              callbacks=[cp, tb]).history\n",
    "    \n",
    "    return autoencoder"
   ]
  },
  {
   "cell_type": "markdown",
   "metadata": {},
   "source": [
    "## Test the network"
   ]
  },
  {
   "cell_type": "code",
   "execution_count": 9,
   "metadata": {},
   "outputs": [
    {
     "name": "stdout",
     "output_type": "stream",
     "text": [
      "WARNING:tensorflow:From /home/roy/anaconda3/lib/python3.7/site-packages/tensorflow/python/framework/op_def_library.py:263: colocate_with (from tensorflow.python.framework.ops) is deprecated and will be removed in a future version.\n",
      "Instructions for updating:\n",
      "Colocations handled automatically by placer.\n",
      "WARNING:tensorflow:From /home/roy/anaconda3/lib/python3.7/site-packages/tensorflow/python/ops/math_ops.py:3066: to_int32 (from tensorflow.python.ops.math_ops) is deprecated and will be removed in a future version.\n",
      "Instructions for updating:\n",
      "Use tf.cast instead.\n"
     ]
    }
   ],
   "source": [
    "nn_results = {}\n",
    "for learning_rate in [1e-2, 5e-3, 1e-3, 1e-4]:\n",
    "    encoder = train_neural_net_encoder(learning_rate)\n",
    "    nn_results.update({str(learning_rate): encoder})"
   ]
  },
  {
   "cell_type": "code",
   "execution_count": 10,
   "metadata": {},
   "outputs": [
    {
     "name": "stdout",
     "output_type": "stream",
     "text": [
      "Calculating  0.01 1\n",
      "Calculating  0.01 1.5\n",
      "Calculating  0.01 2\n",
      "Calculating  0.01 2.5\n",
      "Calculating  0.01 3\n",
      "Calculating  0.005 1\n",
      "Calculating  0.005 1.5\n",
      "Calculating  0.005 2\n",
      "Calculating  0.005 2.5\n",
      "Calculating  0.005 3\n",
      "Calculating  0.001 1\n",
      "Calculating  0.001 1.5\n",
      "Calculating  0.001 2\n",
      "Calculating  0.001 2.5\n",
      "Calculating  0.001 3\n",
      "Calculating  0.0001 1\n",
      "Calculating  0.0001 1.5\n",
      "Calculating  0.0001 2\n",
      "Calculating  0.0001 2.5\n",
      "Calculating  0.0001 3\n"
     ]
    }
   ],
   "source": [
    "test_data = df_test\n",
    "test_data_rescaled = scaler.transform(test_data.drop(['ATT_FLAG'], axis = 1))\n",
    "\n",
    "validation_results = {}\n",
    "for name, encoder in nn_results.items():\n",
    "    for detection_treshold in [1, 1.5, 2, 2.5, 3]:\n",
    "        print('Calculating ', name, detection_treshold)\n",
    "        valid_x_predictions = encoder.predict(test_data_rescaled)\n",
    "        \n",
    "        mse = np.mean(np.power(test_data_rescaled - valid_x_predictions, 2), axis=1)\n",
    "        error_df = pd.DataFrame({'Reconstruction_error': mse,\n",
    "                                'True_class': test_data['ATT_FLAG'] == 1})\n",
    "\n",
    "        precision_rt, recall_rt, threshold_rt = precision_recall_curve(error_df.True_class, error_df.Reconstruction_error)\n",
    "\n",
    "        test_x_predictions = encoder.predict(test_data_rescaled)\n",
    "        mse = np.mean(np.power(test_data_rescaled - test_x_predictions, 2), axis=1)\n",
    "        pred_y = [1 if e > detection_treshold else 0 for e in mse]\n",
    "\n",
    "        conf_matrix = confusion_matrix(error_df.True_class, pred_y)\n",
    "        validation_results.update({f'{name} - {detection_treshold}': \n",
    "                                   {\n",
    "                                    'FP': conf_matrix[0][1], \n",
    "                                    'FN': conf_matrix[1][0],\n",
    "                                    'TP': conf_matrix[1][1]\n",
    "                                   }\n",
    "                                  })"
   ]
  },
  {
   "cell_type": "code",
   "execution_count": 11,
   "metadata": {},
   "outputs": [
    {
     "name": "stdout",
     "output_type": "stream",
     "text": [
      "The results for different learning rates and thresholds\n",
      "{'0.0001 - 1': {'FN': 24, 'FP': 71, 'TP': 18},\n",
      " '0.0001 - 1.5': {'FN': 24, 'FP': 6, 'TP': 18},\n",
      " '0.0001 - 2': {'FN': 25, 'FP': 4, 'TP': 17},\n",
      " '0.0001 - 2.5': {'FN': 29, 'FP': 2, 'TP': 13},\n",
      " '0.0001 - 3': {'FN': 36, 'FP': 2, 'TP': 6},\n",
      " '0.001 - 1': {'FN': 24, 'FP': 92, 'TP': 18},\n",
      " '0.001 - 1.5': {'FN': 32, 'FP': 3, 'TP': 10},\n",
      " '0.001 - 2': {'FN': 36, 'FP': 3, 'TP': 6},\n",
      " '0.001 - 2.5': {'FN': 36, 'FP': 2, 'TP': 6},\n",
      " '0.001 - 3': {'FN': 36, 'FP': 2, 'TP': 6},\n",
      " '0.005 - 1': {'FN': 22, 'FP': 166, 'TP': 20},\n",
      " '0.005 - 1.5': {'FN': 24, 'FP': 14, 'TP': 18},\n",
      " '0.005 - 2': {'FN': 25, 'FP': 8, 'TP': 17},\n",
      " '0.005 - 2.5': {'FN': 25, 'FP': 8, 'TP': 17},\n",
      " '0.005 - 3': {'FN': 25, 'FP': 8, 'TP': 17},\n",
      " '0.01 - 1': {'FN': 20, 'FP': 281, 'TP': 22},\n",
      " '0.01 - 1.5': {'FN': 31, 'FP': 5, 'TP': 11},\n",
      " '0.01 - 2': {'FN': 36, 'FP': 2, 'TP': 6},\n",
      " '0.01 - 2.5': {'FN': 36, 'FP': 2, 'TP': 6},\n",
      " '0.01 - 3': {'FN': 36, 'FP': 2, 'TP': 6}}\n"
     ]
    },
    {
     "name": "stderr",
     "output_type": "stream",
     "text": [
      "/home/roy/anaconda3/lib/python3.7/site-packages/ipykernel_launcher.py:13: DataConversionWarning: Data with input dtype int64, float64 were all converted to float64 by StandardScaler.\n",
      "  del sys.path[0]\n"
     ]
    },
    {
     "data": {
      "image/png": "[encoded data removed]",
      "text/plain": [
       "<Figure size 1080x360 with 1 Axes>"
      ]
     },
     "metadata": {
      "needs_background": "light"
     },
     "output_type": "display_data"
    }
   ],
   "source": [
    "import pprint\n",
    "print('The results for different learning rates and thresholds')\n",
    "pprint.pprint(validation_results)\n",
    "best_learning_rate = '0.005'\n",
    "best_encoder = nn_results[best_learning_rate]\n",
    "best_threshold = 2\n",
    "\n",
    "data3 = pd.read_csv('Data/test.csv')\n",
    "data3['ATT_FLAG'].fillna(0, inplace=True)\n",
    "data3 = data3.drop(columns={'DATETIME'})\n",
    "\n",
    "test_data = data3\n",
    "test_data_rescaled = scaler.transform(test_data.drop(['ATT_FLAG'], axis = 1))\n",
    "\n",
    "valid_x_predictions = best_encoder.predict(test_data_rescaled)\n",
    "mse = np.mean(np.power(test_data_rescaled - valid_x_predictions, 2), axis=1)\n",
    "prediction = [1 if e > best_threshold else 0 for e in mse]\n",
    "\n",
    "plt.figure(figsize=(15,5))\n",
    "plt.plot(test_data['ATT_FLAG'],'r')\n",
    "plt.plot(prediction, 'b-')\n",
    "plot_title = f\"Deep Neural Net, learning rate {best_learning_rate}, threshold {best_threshold}\"\n",
    "plt.legend(['Real Attacks', 'Predicted Attacks'])\n",
    "plt.title(plot_title)\n",
    "plt.show()"
   ]
  },
  {
   "cell_type": "code",
   "execution_count": 12,
   "metadata": {},
   "outputs": [
    {
     "name": "stdout",
     "output_type": "stream",
     "text": [
      "{'ALL': {'DETECTED': 4.0, 'FP': 3}}\n"
     ]
    }
   ],
   "source": [
    "VALUE_FOR_ANOMALITY_DETECTED = 1\n",
    "VALUE_FOR_NORMALITY_DETECTED = 0\n",
    "# This method takes a dictionary (feature: prediction) \n",
    "# and returns a dictionary with insights per sensor type\n",
    "def results_of_predictions(predictions, real_attacks, combined, pp_treshold):\n",
    "    results = {'ALL': {'FP': 0, 'DETECTED': 0}}\n",
    "    grouped = {'ALL': combined}\n",
    "    att_ranges = attack_ranges(real_attacks)\n",
    "    prediction_set = set()\n",
    "    # Group the predictions per sensor\n",
    "    for feature, prediction in predictions.items():\n",
    "        \n",
    "        if feature.startswith(\"L_T\"):\n",
    "            sensor_name = \"L_T\"\n",
    "        if feature.startswith(\"S_PU\"):\n",
    "            sensor_name = \"S_PU\"\n",
    "        if feature.startswith(\"F_PU\"):\n",
    "            sensor_name = \"F_PU\"\n",
    "        if feature.startswith(\"S_V\"):\n",
    "            sensor_name = \"S_V\"\n",
    "        if feature.startswith(\"F_V\"):\n",
    "            sensor_name = \"F_V\"\n",
    "        if feature.startswith(\"P_J\"):\n",
    "            sensor_name = \"P_J\"\n",
    "            \n",
    "        if sensor_name not in results:\n",
    "            results.update({sensor_name: {'FP': 0, 'DETECTED': 0}})\n",
    "            grouped.update({sensor_name: prediction})\n",
    "            \n",
    "        grouped_prediction = grouped[sensor_name]\n",
    "        for i, p in enumerate(prediction):\n",
    "            prediction_set.add(p)\n",
    "            if p == 1:\n",
    "                grouped_prediction[i] = 1\n",
    "       \n",
    "    # Process FP and detection rates\n",
    "    for sensor_name, prediction in grouped.items():\n",
    "        # Find the False Positives\n",
    "        for i, p in enumerate(prediction):\n",
    "            r = real_attacks[i]\n",
    "            if r == VALUE_FOR_NORMALITY_DETECTED and p == VALUE_FOR_ANOMALITY_DETECTED:\n",
    "                results[sensor_name]['FP'] += 1\n",
    "                \n",
    "        # Calculate the detection rate\n",
    "        for (start, end) in att_ranges:\n",
    "            prediction_range = prediction[start:end]\n",
    "            if VALUE_FOR_ANOMALITY_DETECTED in prediction_range:\n",
    "                first_index = None\n",
    "                for j in range(start, end+1):\n",
    "                    e = prediction[j]\n",
    "                    if e == VALUE_FOR_ANOMALITY_DETECTED:\n",
    "                        first_index = j\n",
    "                        break\n",
    "                fraction_detected = 1 - ((first_index - start) / (end-start + 1))\n",
    "                results[sensor_name]['DETECTED'] += fraction_detected\n",
    "        results[sensor_name]['DETECTED'] = round(results[sensor_name]['DETECTED'], 2)\n",
    "    return results \n",
    "\n",
    "\n",
    "# This method returns the ranges of attacks happening in a list containing the attacks.\n",
    "def attack_ranges(attacks):\n",
    "    treshold_for_attack = 0.1\n",
    "    ranges = []\n",
    "    ctr = 0\n",
    "    att_start = None\n",
    "    while ctr < len(attacks):\n",
    "        e = attacks[ctr]\n",
    "        if e > treshold_for_attack:\n",
    "            att_start = ctr\n",
    "            while e > treshold_for_attack:\n",
    "                ctr += 1\n",
    "                e = attacks[ctr]\n",
    "            att_stop = ctr - 1\n",
    "            ranges.append((att_start, att_stop))\n",
    "        else:\n",
    "            ctr += 1\n",
    "    return ranges\n",
    "\n",
    "\n",
    "nn = results_of_predictions({}, data3['ATT_FLAG'], prediction, 1)\n",
    "pprint.pprint(nn)"
   ]
  },
  {
   "cell_type": "code",
   "execution_count": 13,
   "metadata": {},
   "outputs": [],
   "source": [
    "import pandas as pd\n",
    "rows = []\n",
    "for key, d in validation_results.items():\n",
    "    splitted = key.split(' - ')\n",
    "    learning_rate = splitted[0]\n",
    "    threshold = splitted[1]\n",
    "    fn = d['FN']\n",
    "    tp = d['TP']\n",
    "    fp = d['FP']\n",
    "    rows.append([learning_rate, threshold, fn, fp, tp])\n",
    "df = pd.DataFrame(rows)\n",
    "df.columns = ['LR', 'Threshold', 'FN', 'FP', 'TP']\n",
    "df.to_csv('nn.csv')"
   ]
  }
 ],
 "metadata": {
  "kernelspec": {
   "display_name": "Python 3",
   "language": "python",
   "name": "python3"
  },
  "language_info": {
   "codemirror_mode": {
    "name": "ipython",
    "version": 3
   },
   "file_extension": ".py",
   "mimetype": "text/x-python",
   "name": "python",
   "nbconvert_exporter": "python",
   "pygments_lexer": "ipython3",
   "version": "3.7.3"
  }
 },
 "nbformat": 4,
 "nbformat_minor": 2
}
