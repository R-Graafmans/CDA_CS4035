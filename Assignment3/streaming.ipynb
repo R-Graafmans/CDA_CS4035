{
 "cells": [
  {
   "cell_type": "markdown",
   "metadata": {},
   "source": [
    "# Imports\n"
   ]
  },
  {
   "cell_type": "code",
   "execution_count": 33,
   "metadata": {},
   "outputs": [],
   "source": [
    "import random\n",
    "from operator import itemgetter\n",
    "\n",
    "import pandas as pd\n",
    "import numpy as np\n",
    "import matplotlib.pyplot as plt\n",
    "import seaborn as sns"
   ]
  },
  {
   "cell_type": "markdown",
   "metadata": {},
   "source": [
    "# Import data"
   ]
  },
  {
   "cell_type": "code",
   "execution_count": 3,
   "metadata": {},
   "outputs": [
    {
     "name": "stderr",
     "output_type": "stream",
     "text": [
      "/usr/local/lib/python3.6/dist-packages/IPython/core/interactiveshell.py:3049: DtypeWarning: Columns (13) have mixed types. Specify dtype option on import or set low_memory=False.\n",
      "  interactivity=interactivity, compiler=compiler, result=result)\n"
     ]
    }
   ],
   "source": [
    "raw_data6 = pd.read_csv('data/scenario6.labeled', delimiter='\\s+')\n",
    "# raw_data10 = pd.read_csv('data/scenario10.labeled', delimiter='\\s+')"
   ]
  },
  {
   "cell_type": "code",
   "execution_count": 4,
   "metadata": {},
   "outputs": [],
   "source": [
    "def parse_data(raw):\n",
    "    data = raw\n",
    "    data['Date'] = data['Date'].map(str) + \" \" + data['flow']\n",
    "\n",
    "    src_ip_port = data['Prot'].map(str).str.split(':', n=1, expand = True)\n",
    "    dst_ip_port = data['IP'].map(str).str.split(':', n=1, expand = True)\n",
    "    data['src_ip'] = src_ip_port[0]\n",
    "    data['src_port'] = src_ip_port[1]\n",
    "    data['dst_ip'] = dst_ip_port[0]\n",
    "    data['dst_port'] = dst_ip_port[1]\n",
    "\n",
    "    data.drop(['flow', 'Src','Packets', 'Bytes', 'Flows', 'Prot', 'IP', 'Label', 'Labels'], axis=1, inplace=True)\n",
    "    data.rename(columns={'start':'duration', 'Date':'start','Durat':'protocol', 'Addr:Port':'flags', 'Dst':'tos', 'IP.1':'packets', 'Addr:Port.1':'bytes', 'Flags':'flows', 'Tos':'label'}, inplace=True)\n",
    "    data.sort_values(by='start', inplace=True)\n",
    "    \n",
    "    return data"
   ]
  },
  {
   "cell_type": "code",
   "execution_count": 5,
   "metadata": {},
   "outputs": [
    {
     "name": "stdout",
     "output_type": "stream",
     "text": [
      "                     start  duration protocol flags  tos  packets    bytes  \\\n",
      "0  2011-08-16 10:01:46.972     4.933      TCP    A_    0      537    37374   \n",
      "1  2011-08-16 10:01:46.974     4.929      TCP   PA_    0      936  1417104   \n",
      "2  2011-08-16 10:01:46.974     4.999      TCP   PA_    0      949   208122   \n",
      "3  2011-08-16 10:01:46.976     0.000      UDP   INT    0        1      174   \n",
      "4  2011-08-16 10:01:46.977     0.009      TCP   RA_    0        4      264   \n",
      "\n",
      "   flows       label           src_ip src_port         dst_ip dst_port  \n",
      "0      1  Background    88.176.79.163    49213  147.32.84.172    18250  \n",
      "1      1  Background    147.32.84.172    18250  88.176.79.163    49213  \n",
      "2      1  Background    147.32.85.112       22   85.70.14.207    10005  \n",
      "3      1  Background      90.178.10.8    61997  147.32.84.229    13363  \n",
      "4      1  Background  117.211.100.130    43458   147.32.86.92       80  \n",
      "['Background' 'LEGITIMATE' 'Botnet']\n"
     ]
    }
   ],
   "source": [
    "data6 = parse_data(raw_data6)\n",
    "print(data6.head())\n",
    "print(data6['label'].unique())"
   ]
  },
  {
   "cell_type": "markdown",
   "metadata": {},
   "source": [
    "# Sampling"
   ]
  },
  {
   "cell_type": "markdown",
   "metadata": {},
   "source": [
    "### Obtain IP addresses to sample"
   ]
  },
  {
   "cell_type": "code",
   "execution_count": 131,
   "metadata": {},
   "outputs": [
    {
     "name": "stdout",
     "output_type": "stream",
     "text": [
      "IP 147.32.84.165 sends packets to 1582 unique IP addresses.\n"
     ]
    }
   ],
   "source": [
    "df = data6\n",
    "infected_ip = '147.32.84.165'\n",
    "\n",
    "src_rows_with_infected_ip = df[df['src_ip'] == infected_ip]\n",
    "dst_df = src_rows_with_infected_ip['dst_ip']\n",
    "from_infected = dst_df.values\n",
    "\n",
    "dst_rows_with_infected_ip = df[df['dst_ip'] == infected_ip]\n",
    "src_df = dst_rows_with_infected_ip['src_ip']\n",
    "to_infected = src_df.values\n",
    "\n",
    "nr_of_unique_ips = len(np.unique(from_infected))\n",
    "\n",
    "print(f'IP {infected_ip} sends packets to {nr_of_unique_ips} unique IP addresses.')    "
   ]
  },
  {
   "cell_type": "markdown",
   "metadata": {},
   "source": [
    "### Reservoir Sampling\n"
   ]
  },
  {
   "cell_type": "markdown",
   "metadata": {},
   "source": [
    "Estimate the distribution over the other IP_addresses, what are the 10 most frequent values?\n",
    "Write code for RESERVOIR sampling, use it to estimate the distribution in one pass (no need to\n",
    "actually stream the data, you may store it in memory, or run every file separately, but do store\n",
    "and load the intermediate results). Use a range of reservoir sizes. What are the 10 most frequent\n",
    "IP-addresses and their frequencies when sampled? Use the theory to explain any approximation\n",
    "errors you observe\n",
    "\n",
    "Implemented correctly, explanation accurate"
   ]
  },
  {
   "cell_type": "code",
   "execution_count": 43,
   "metadata": {},
   "outputs": [],
   "source": [
    "# random_replace replaces a random element in sample with ip\n",
    "def random_replace(sample, ip):\n",
    "    r = random.randint(0, len(sample) - 1)\n",
    "    sample[r] = ip\n",
    "    \n",
    "\n",
    "# reservoir_sample performs reservoir sampling on the stream\n",
    "def reservoir_sample(stream, reservoir_size):\n",
    "    sample = []\n",
    "    for i, ip in enumerate(stream):\n",
    "        if i < reservoir_size:\n",
    "            # Fill sample first\n",
    "            sample.append(ip)\n",
    "        else:\n",
    "            # Probability that the next item should be sampled\n",
    "            proba = reservoir_size / (i + 1)\n",
    "            # Draw random number, if smaller than proba it should be sampled\n",
    "            r = random.random()\n",
    "            if r <= proba:\n",
    "                # Element should be sampled\n",
    "                random_replace(sample, ip)\n",
    "    return sample\n",
    "\n",
    "\n",
    "# aggregate counts the occurences per IP\n",
    "def aggregate(ips, return_n_best=None):\n",
    "    counts = {}\n",
    "    for ip in ips:\n",
    "        if ip not in counts:\n",
    "            counts.update({ip: 0})\n",
    "        counts[ip] += 1\n",
    "    if return_n_best is None:\n",
    "        return counts\n",
    "    else:\n",
    "        counts = counts.items()\n",
    "        return sorted(counts, key=itemgetter(1), reverse=True)[:return_n_best]\n",
    "    \n",
    "\n",
    "# overlap computes the number of elements which are estimated 'correctly'\n",
    "def overlap(real, estimate):\n",
    "    real = set([ip for (ip, _) in real])\n",
    "    estimate = [ip for (ip, _) in estimate]\n",
    "    count = 0\n",
    "    for e in estimate:\n",
    "        if e in real:\n",
    "            count +=1            \n",
    "    return count"
   ]
  },
  {
   "cell_type": "code",
   "execution_count": 129,
   "metadata": {},
   "outputs": [
    {
     "name": "stdout",
     "output_type": "stream",
     "text": [
      "Overlap: 6\n"
     ]
    }
   ],
   "source": [
    "best_n = 10\n",
    "\n",
    "# Real distribution\n",
    "real = aggregate(from_infected, best_n)\n",
    "# print(f'Reality {best_n} most frequent: {real}')\n",
    "\n",
    "reservoir_size = 300\n",
    "sample = reservoir_sample(from_infected, reservoir_size)\n",
    "estimated = aggregate(sample, best_n)\n",
    "# print(f'Estimated {best_n} most frequent: {estimated}')\n",
    "\n",
    "ip_overlap = overlap(real, estimated)\n",
    "print(f'Overlap: {ip_overlap}')"
   ]
  },
  {
   "cell_type": "markdown",
   "metadata": {},
   "source": [
    "# Sketching"
   ]
  },
  {
   "cell_type": "markdown",
   "metadata": {},
   "source": [
    "Build code for computing a COUNT-MIN sketch, play with different heights and widths for the Count-Min sketch matrix. Compare it to the RESERVOIR sampling strategy. Is it more spaceefficient/accurate? What about run-time? Use the theory to explain any differences you observe.\n",
    "\n",
    "Implemented correctly, analysis, and evaluation are sound"
   ]
  },
  {
   "cell_type": "markdown",
   "metadata": {},
   "source": [
    "### COUNT-MIN Sketch"
   ]
  },
  {
   "cell_type": "code",
   "execution_count": 73,
   "metadata": {},
   "outputs": [],
   "source": [
    "_memomask = {}\n",
    "\n",
    "# This function returns a (semi)unique hash function. \n",
    "# A new hash function is created based on the built-in hash function,\n",
    "# but with a seeded random mask. Based on a stackoverflow code snippet.\n",
    "# source: https://stackoverflow.com/questions/2255604/hash-functions-family-generator-in-python\n",
    "def hash_function(n, w):\n",
    "    mask = _memomask.get(n)\n",
    "    if mask is None:\n",
    "        random.seed(n)\n",
    "        mask = _memomask[n] = random.getrandbits(64)\n",
    "        \n",
    "    def myhash(x):\n",
    "        return (hash(x) ^ mask) % w\n",
    "    \n",
    "    return myhash\n",
    "\n",
    "# Create a matrix with counts\n",
    "def count_min_sketch(stream, w, d):\n",
    "    cm = np.zeros((d, w), dtype=int)\n",
    "    hash_functions = [hash_function(i, w) for i in range(d)]\n",
    "    for e in stream:\n",
    "        for i, hi in enumerate(hash_functions):\n",
    "            v = hi(e)\n",
    "            cm[i, v] += 1\n",
    "    return cm, hash_functions\n",
    "\n",
    "# Estimate occurence of a list of ips\n",
    "def estimate_occurences(cm, hash_functions, ips):\n",
    "    res = []\n",
    "    for ip in ips:\n",
    "        min_occurence = None\n",
    "        for i, hi in enumerate(hash_functions):\n",
    "            v = cm[i, hi(ip)]\n",
    "            if min_occurence is None or min_occurence > v:\n",
    "                min_occurence = v\n",
    "        res.append((ip, min_occurence))\n",
    "    return res\n",
    "\n",
    "# w = 2 / epsilon\n",
    "# epsilon = 2 / w\n",
    "# d = log(1/delta)\n",
    "# Map hash function to [1...w]\n",
    "# resulting count is overestimate"
   ]
  },
  {
   "cell_type": "code",
   "execution_count": 85,
   "metadata": {},
   "outputs": [
    {
     "name": "stdout",
     "output_type": "stream",
     "text": [
      "IP: 91.212.135.158, real occurences: 384, predicted occurences: 437\n",
      "IP: 64.59.134.8, real occurences: 194, predicted occurences: 231\n",
      "IP: 24.71.223.11, real occurences: 160, predicted occurences: 217\n",
      "IP: 216.32.180.22, real occurences: 154, predicted occurences: 211\n",
      "IP: 65.55.37.72, real occurences: 96, predicted occurences: 130\n",
      "IP: 65.55.37.88, real occurences: 94, predicted occurences: 133\n",
      "IP: 65.55.92.136, real occurences: 93, predicted occurences: 145\n",
      "IP: 65.55.92.168, real occurences: 90, predicted occurences: 123\n",
      "IP: 65.55.92.152, real occurences: 90, predicted occurences: 146\n",
      "IP: 202.108.252.141, real occurences: 89, predicted occurences: 121\n"
     ]
    }
   ],
   "source": [
    "stream = from_infected\n",
    "# width\n",
    "w = 50\n",
    "# n_hash_functions, depth/height\n",
    "d = 5\n",
    "cm, hs = count_min_sketch(stream, w, d)\n",
    "ips = [ip for (ip, occ) in real]\n",
    "estimates = estimate_occurences(cm, hs, ips)\n",
    "for i, (ip, occ) in enumerate(real):\n",
    "    print(f'IP: {ip}, real occurences: {occ}, predicted occurences: {estimates[i][1]}')"
   ]
  },
  {
   "cell_type": "code",
   "execution_count": 133,
   "metadata": {},
   "outputs": [
    {
     "name": "stdout",
     "output_type": "stream",
     "text": [
      "5724\n"
     ]
    }
   ],
   "source": [
    "print(len(from_infected))"
   ]
  }
 ],
 "metadata": {
  "kernelspec": {
   "display_name": "Python 3",
   "language": "python",
   "name": "python3"
  },
  "language_info": {
   "codemirror_mode": {
    "name": "ipython",
    "version": 3
   },
   "file_extension": ".py",
   "mimetype": "text/x-python",
   "name": "python",
   "nbconvert_exporter": "python",
   "pygments_lexer": "ipython3",
   "version": "3.6.8"
  }
 },
 "nbformat": 4,
 "nbformat_minor": 2
}
