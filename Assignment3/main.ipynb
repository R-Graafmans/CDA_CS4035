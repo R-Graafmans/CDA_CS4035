{
 "cells": [
  {
   "cell_type": "markdown",
   "metadata": {},
   "source": [
    "# Imports\n"
   ]
  },
  {
   "cell_type": "code",
   "execution_count": 2,
   "metadata": {},
   "outputs": [],
   "source": [
    "import pandas as pd\n",
    "import numpy as np\n",
    "import matplotlib.pyplot as plt\n",
    "import seaborn as sns"
   ]
  },
  {
   "cell_type": "markdown",
   "metadata": {},
   "source": [
    "# Import data"
   ]
  },
  {
   "cell_type": "code",
   "execution_count": 3,
   "metadata": {},
   "outputs": [],
   "source": [
    "raw_data6 = pd.read_csv('data/capture20110816.pcap.netflow.labeled', delimiter='\\s+')\n",
    "raw_data10 = pd.read_csv('data/capture20110818.pcap.netflow.labeled', delimiter='\\s+')"
   ]
  },
  {
   "cell_type": "code",
   "execution_count": 4,
   "metadata": {},
   "outputs": [],
   "source": [
    "def parse_data(raw):\n",
    "    data = raw\n",
    "    data['Date'] = data['Date'].map(str) + \" \" + data['flow']\n",
    "\n",
    "    src_ip_port = data['Prot'].map(str).str.split(':', n=1, expand = True)\n",
    "    dst_ip_port = data['IP'].map(str).str.split(':', n=1, expand = True)\n",
    "    data['src_ip'] = src_ip_port[0]\n",
    "    data['src_port'] = src_ip_port[1]\n",
    "    data['dst_ip'] = dst_ip_port[0]\n",
    "    data['dst_port'] = dst_ip_port[1]\n",
    "\n",
    "    data.drop(['flow', 'Src','Packets', 'Bytes', 'Flows', 'Prot', 'IP', 'Label', 'Labels'], axis=1, inplace=True)\n",
    "    data.rename(columns={'start':'duration', 'Date':'start','Durat':'protocol', 'Addr:Port':'flags', 'Dst':'tos', 'IP.1':'packets', 'Addr:Port.1':'bytes', 'Flags':'flows', 'Tos':'label'}, inplace=True)\n",
    "    data.sort_values(by='start', inplace=True)\n",
    "    \n",
    "    return data"
   ]
  },
  {
   "cell_type": "code",
   "execution_count": 5,
   "metadata": {},
   "outputs": [
    {
     "name": "stdout",
     "output_type": "stream",
     "text": [
      "                     start  duration protocol flags  tos  packets    bytes  \\\n",
      "0  2011-08-16 10:01:46.972     4.933      TCP    A_    0      537    37374   \n",
      "1  2011-08-16 10:01:46.974     4.929      TCP   PA_    0      936  1417104   \n",
      "2  2011-08-16 10:01:46.974     4.999      TCP   PA_    0      949   208122   \n",
      "3  2011-08-16 10:01:46.976     0.000      UDP   INT    0        1      174   \n",
      "4  2011-08-16 10:01:46.977     0.009      TCP   RA_    0        4      264   \n",
      "\n",
      "   flows       label           src_ip src_port         dst_ip dst_port  \n",
      "0      1  Background    88.176.79.163    49213  147.32.84.172    18250  \n",
      "1      1  Background    147.32.84.172    18250  88.176.79.163    49213  \n",
      "2      1  Background    147.32.85.112       22   85.70.14.207    10005  \n",
      "3      1  Background      90.178.10.8    61997  147.32.84.229    13363  \n",
      "4      1  Background  117.211.100.130    43458   147.32.86.92       80  \n"
     ]
    }
   ],
   "source": [
    "data6 = parse_data(raw_data6)\n",
    "print(data6.head())\n",
    "print(data6['label'].unique())"
   ]
  },
  {
   "cell_type": "code",
   "execution_count": 5,
   "metadata": {},
   "outputs": [
    {
     "name": "stdout",
     "output_type": "stream",
     "text": [
      "                     start  duration protocol  flags  tos  packets    bytes  \\\n",
      "0  2011-08-18 10:19:13.328     0.002      TCP  FRPA_    0        4      321   \n",
      "1  2011-08-18 10:19:13.328     4.995      UDP    INT    0      617    40095   \n",
      "2  2011-08-18 10:19:13.329     4.996      UDP    INT    0     1290  1909200   \n",
      "3  2011-08-18 10:19:13.330     0.000      TCP     A_    0        1       66   \n",
      "4  2011-08-18 10:19:13.330     0.000      TCP   FPA_    0        2      169   \n",
      "\n",
      "   flows       label          src_ip src_port          dst_ip dst_port  \n",
      "0      1  Background   147.32.86.166    33426  212.24.150.110    25443  \n",
      "1      1  Background     82.39.2.249    41915    147.32.84.59    43087  \n",
      "2      1  Background    147.32.84.59    43087     82.39.2.249    41915  \n",
      "3      1  Background   147.32.86.166    42020   147.32.192.34      993  \n",
      "4      1  Background  212.24.150.110    25443   147.32.86.166    33426  \n",
      "['Background' 'LEGITIMATE' 'Botnet']\n"
     ]
    }
   ],
   "source": [
    "data10 = parse_data(raw_data10)\n",
    "print(data10.head())\n",
    "print(data10['label'].unique())"
   ]
  }
 ],
 "metadata": {
  "kernelspec": {
   "display_name": "Python 3",
   "language": "python",
   "name": "python3"
  },
  "language_info": {
   "codemirror_mode": {
    "name": "ipython",
    "version": 3
   },
   "file_extension": ".py",
   "mimetype": "text/x-python",
   "name": "python",
   "nbconvert_exporter": "python",
   "pygments_lexer": "ipython3",
   "version": "3.7.3"
  }
 },
 "nbformat": 4,
 "nbformat_minor": 2
}
