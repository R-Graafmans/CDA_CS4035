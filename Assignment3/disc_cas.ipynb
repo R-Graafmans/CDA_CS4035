{
 "cells": [
  {
   "cell_type": "markdown",
   "metadata": {},
   "source": [
    "# Imports\n"
   ]
  },
  {
   "cell_type": "code",
   "execution_count": 14,
   "metadata": {},
   "outputs": [],
   "source": [
    "import math\n",
    "\n",
    "import pandas as pd\n",
    "import numpy as np\n",
    "import matplotlib.pyplot as plt\n",
    "import seaborn as sns\n",
    "\n",
    "from sklearn.preprocessing import StandardScaler\n",
    "from tslearn.piecewise import SymbolicAggregateApproximation"
   ]
  },
  {
   "cell_type": "markdown",
   "metadata": {},
   "source": [
    "# Import data"
   ]
  },
  {
   "cell_type": "code",
   "execution_count": 5,
   "metadata": {},
   "outputs": [],
   "source": [
    "# raw_data6 = pd.read_csv('data/scenario6.labeled', delimiter='\\s+')\n",
    "raw_data10 = pd.read_csv('data/scenario10.labeled', delimiter='\\s+')"
   ]
  },
  {
   "cell_type": "code",
   "execution_count": 6,
   "metadata": {},
   "outputs": [],
   "source": [
    "def parse_data(raw):\n",
    "    data = raw\n",
    "    data['Date'] = data['Date'].map(str) + \" \" + data['flow']\n",
    "\n",
    "    src_ip_port = data['Prot'].map(str).str.split(':', n=1, expand = True)\n",
    "    dst_ip_port = data['IP'].map(str).str.split(':', n=1, expand = True)\n",
    "    data['src_ip'] = src_ip_port[0]\n",
    "    data['src_port'] = src_ip_port[1]\n",
    "    data['dst_ip'] = dst_ip_port[0]\n",
    "    data['dst_port'] = dst_ip_port[1]\n",
    "\n",
    "    data.drop(['flow', 'Src','Packets', 'Bytes', 'Flows', 'Prot', 'IP', 'Label', 'Labels'], axis=1, inplace=True)\n",
    "    data.rename(columns={'start':'duration', 'Date':'start','Durat':'protocol', 'Addr:Port':'flags', 'Dst':'tos', 'IP.1':'packets', 'Addr:Port.1':'bytes', 'Flags':'flows', 'Tos':'label'}, inplace=True)\n",
    "    data.sort_values(by='start', inplace=True)\n",
    "    data['protocol_cat'] = pd.Categorical(data['protocol'], categories=data['protocol'].unique()).codes\n",
    "    \n",
    "    return data"
   ]
  },
  {
   "cell_type": "code",
   "execution_count": 4,
   "metadata": {},
   "outputs": [],
   "source": [
    "# data6 = parse_data(raw_data6)\n",
    "# print(data6.head())\n",
    "# print(data6['label'].unique())"
   ]
  },
  {
   "cell_type": "code",
   "execution_count": 7,
   "metadata": {},
   "outputs": [
    {
     "name": "stdout",
     "output_type": "stream",
     "text": [
      "                     start  duration protocol  flags  tos  packets    bytes  \\\n",
      "0  2011-08-18 10:19:13.328     0.002      TCP  FRPA_    0        4      321   \n",
      "1  2011-08-18 10:19:13.328     4.995      UDP    INT    0      617    40095   \n",
      "2  2011-08-18 10:19:13.329     4.996      UDP    INT    0     1290  1909200   \n",
      "3  2011-08-18 10:19:13.330     0.000      TCP     A_    0        1       66   \n",
      "4  2011-08-18 10:19:13.330     0.000      TCP   FPA_    0        2      169   \n",
      "\n",
      "   flows       label          src_ip src_port          dst_ip dst_port  \\\n",
      "0      1  Background   147.32.86.166    33426  212.24.150.110    25443   \n",
      "1      1  Background     82.39.2.249    41915    147.32.84.59    43087   \n",
      "2      1  Background    147.32.84.59    43087     82.39.2.249    41915   \n",
      "3      1  Background   147.32.86.166    42020   147.32.192.34      993   \n",
      "4      1  Background  212.24.150.110    25443   147.32.86.166    33426   \n",
      "\n",
      "   protocol_cat  \n",
      "0             0  \n",
      "1             1  \n",
      "2             1  \n",
      "3             0  \n",
      "4             0  \n",
      "['Background' 'LEGITIMATE' 'Botnet']\n"
     ]
    }
   ],
   "source": [
    "data10 = parse_data(raw_data10)\n",
    "print(data10.head())\n",
    "print(data10['label'].unique())"
   ]
  },
  {
   "cell_type": "markdown",
   "metadata": {},
   "source": [
    "# Flow data discretization task"
   ]
  },
  {
   "cell_type": "code",
   "execution_count": 8,
   "metadata": {},
   "outputs": [],
   "source": [
    "infected_ip = ['147.32.84.165', '147.32.84.191', '147.32.84.192', '147.32.84.193', '147.32.84.204', '147.32.84.205', '147.32.84.206', '147.32.84.207', '147.32.84.208', '147.32.84.209']\n",
    "selected_infected = 0\n",
    "\n",
    "normal_ip = ['147.32.84.170', '147.32.84.134', '147.32.84.164', '147.32.87.36', '147.32.80.9', '147.32.87.11']\n",
    "\n",
    "infected_data = data10[data10['src_ip']== infected_ip[selected_infected]]\n",
    "normal_data = data10[data10['src_ip'].isin(normal_ip)]\n",
    "combined_data = data10[(data10['src_ip']== infected_ip[selected_infected]) | (data10['src_ip'].isin(normal_ip))]"
   ]
  },
  {
   "cell_type": "code",
   "execution_count": 7,
   "metadata": {},
   "outputs": [],
   "source": [
    "def print_stat(feature):\n",
    "    print(feature + \"   -   Infected   -   Mean: \" + str(round(infected_data[feature].mean(),2)) + \"     Std: \" + str(round(infected_data[feature].std(),2)))\n",
    "    print(feature + \"   -   Normal     -   Mean: \" + str(round(normal_data[feature].mean(),2)) + \"     Std: \" + str(round(normal_data[feature].std(),2)))"
   ]
  },
  {
   "cell_type": "code",
   "execution_count": 8,
   "metadata": {},
   "outputs": [
    {
     "name": "stdout",
     "output_type": "stream",
     "text": [
      "duration   -   Infected   -   Mean: 0.55     Std: 1.44\n",
      "duration   -   Normal     -   Mean: 0.03     Std: 0.31\n",
      "tos   -   Infected   -   Mean: 0.0     Std: 0.0\n",
      "tos   -   Normal     -   Mean: 0.0     Std: 0.0\n",
      "packets   -   Infected   -   Mean: 15.84     Std: 102.15\n",
      "packets   -   Normal     -   Mean: 1.77     Std: 33.22\n",
      "bytes   -   Infected   -   Mean: 14104.12     Std: 84291.2\n",
      "bytes   -   Normal     -   Mean: 781.56     Std: 34258.15\n",
      "flows   -   Infected   -   Mean: 1.0     Std: 0.0\n",
      "flows   -   Normal     -   Mean: 1.0     Std: 0.0\n",
      "protocol_cat   -   Infected   -   Mean: 1.94     Std: 0.31\n",
      "protocol_cat   -   Normal     -   Mean: 0.94     Std: 0.24\n"
     ]
    }
   ],
   "source": [
    "for feature in data10.select_dtypes([np.number]).columns:\n",
    "    print_stat(feature)"
   ]
  },
  {
   "cell_type": "code",
   "execution_count": 19,
   "metadata": {},
   "outputs": [],
   "source": [
    "def plot_feature(feature1, feature2):\n",
    "    plt.figure(figsize=(15,5))\n",
    "    plt.scatter(infected_data[feature1], infected_data[feature2], label='infected_data')\n",
    "    plt.scatter(normal_data[feature1], normal_data[feature2], label='normal_data')\n",
    "    plt.xlabel(feature1)\n",
    "    plt.ylabel(feature2)\n",
    "    plt.legend()\n",
    "    plt.show()"
   ]
  },
  {
   "cell_type": "code",
   "execution_count": 20,
   "metadata": {},
   "outputs": [
    {
     "data": {
      "image/png": "[encoded data removed]",
      "text/plain": [
       "<Figure size 1080x360 with 1 Axes>"
      ]
     },
     "metadata": {
      "needs_background": "light"
     },
     "output_type": "display_data"
    },
    {
     "data": {
      "image/png": "[encoded data removed]",
      "text/plain": [
       "<Figure size 1080x360 with 1 Axes>"
      ]
     },
     "metadata": {
      "needs_background": "light"
     },
     "output_type": "display_data"
    },
    {
     "data": {
      "image/png": "[encoded data removed]",
      "text/plain": [
       "<Figure size 1080x360 with 1 Axes>"
      ]
     },
     "metadata": {
      "needs_background": "light"
     },
     "output_type": "display_data"
    }
   ],
   "source": [
    "# plot_feature('duration', 'packets')\n",
    "plot_feature('protocol_cat', 'packets')\n",
    "plot_feature('packets', 'bytes')\n",
    "plot_feature('protocol_cat', 'bytes')"
   ]
  },
  {
   "cell_type": "code",
   "execution_count": 11,
   "metadata": {},
   "outputs": [],
   "source": [
    "class map_numerical:\n",
    "    def __init__(self, data, feature, num_percentiles = 5):\n",
    "        self.data = data[feature].reset_index(drop=True)\n",
    "        self.percentiles = np.arange(1/num_percentiles, 1, 1/num_percentiles)\n",
    "        self.percentiles_values = list(map(lambda x: np.percentile(self.data,x*100), self.percentiles))\n",
    "        self.num_percentiles = num_percentiles\n",
    "        \n",
    "    def mapping(self, row):\n",
    "        value = self.data[row]\n",
    "        previous_boundary = 0\n",
    "        for i,boundary in enumerate(self.percentiles_values):\n",
    "            if value >= previous_boundary and value < boundary:\n",
    "                return i\n",
    "            previous_boundary = boundary\n",
    "        return self.num_percentiles - 1\n",
    "    \n",
    "    def mapping_size(self):\n",
    "        return self.num_percentiles"
   ]
  },
  {
   "cell_type": "code",
   "execution_count": 12,
   "metadata": {},
   "outputs": [],
   "source": [
    "class map_categorical:\n",
    "    def __init__(self, data, feature):\n",
    "        self.data = data[feature].reset_index(drop=True)\n",
    "        self.categories = self.data.unique()\n",
    "        self.num_categories = self.data.nunique()\n",
    "        \n",
    "    def mapping(self, row):\n",
    "        value = self.data[row]\n",
    "        return np.where(self.categories == value)[0][0]\n",
    "    \n",
    "    def mapping_size(self):\n",
    "        return self.num_categories"
   ]
  },
  {
   "cell_type": "code",
   "execution_count": 13,
   "metadata": {},
   "outputs": [],
   "source": [
    "def encode_netflow(features, row):\n",
    "    code = 0\n",
    "    space_size = 1\n",
    "    for feature in features:\n",
    "        space_size *= feature.mapping_size()\n",
    "    for feature in features:\n",
    "        mapping_size = feature.mapping_size()\n",
    "        code += feature.mapping(row) * space_size / mapping_size\n",
    "        space_size /= mapping_size\n",
    "    return code"
   ]
  },
  {
   "cell_type": "code",
   "execution_count": 14,
   "metadata": {},
   "outputs": [],
   "source": [
    "def encode_series(features, num_rows):\n",
    "    encoded = list()\n",
    "    for i in range(0, num_rows):\n",
    "        encoded.append(encode_netflow(features, i))\n",
    "    return encoded"
   ]
  },
  {
   "cell_type": "code",
   "execution_count": 15,
   "metadata": {},
   "outputs": [
    {
     "name": "stdout",
     "output_type": "stream",
     "text": [
      "2\n",
      "0.0\n"
     ]
    }
   ],
   "source": [
    "\n",
    "values_num = pd.DataFrame(np.arange(0,1,0.05))\n",
    "map_num = map_numerical(values_num, 0)\n",
    "\n",
    "\n",
    "values_cat = pd.DataFrame(['a','a','b','b','c'])\n",
    "map_cat = map_categorical(values_cat, 0)\n",
    "print(map_cat.mapping(4))\n",
    "\n",
    "print(encode_netflow([map_num, map_cat],1))"
   ]
  },
  {
   "cell_type": "code",
   "execution_count": 16,
   "metadata": {},
   "outputs": [],
   "source": [
    "limit = min(len(infected_data), len(normal_data))\n",
    "\n",
    "inf_proto = map_categorical(infected_data, 'protocol')\n",
    "inf_byte = map_numerical(infected_data, 'bytes')\n",
    "inf_encoded_serie = encode_series([inf_proto,inf_byte], limit)\n",
    "\n",
    "norm_proto = map_categorical(normal_data, 'protocol')\n",
    "norm_byte = map_numerical(normal_data, 'bytes')\n",
    "norm_encoded_serie = encode_series([norm_proto,norm_byte], limit)"
   ]
  },
  {
   "cell_type": "code",
   "execution_count": 1,
   "metadata": {},
   "outputs": [
    {
     "ename": "NameError",
     "evalue": "name 'plt' is not defined",
     "output_type": "error",
     "traceback": [
      "\u001b[0;31m---------------------------------------------------------------------------\u001b[0m",
      "\u001b[0;31mNameError\u001b[0m                                 Traceback (most recent call last)",
      "\u001b[0;32m<ipython-input-1-83e9d7fb8f80>\u001b[0m in \u001b[0;36m<module>\u001b[0;34m\u001b[0m\n\u001b[0;32m----> 1\u001b[0;31m \u001b[0mplt\u001b[0m\u001b[0;34m.\u001b[0m\u001b[0mfigure\u001b[0m\u001b[0;34m(\u001b[0m\u001b[0mfigsize\u001b[0m\u001b[0;34m=\u001b[0m\u001b[0;34m(\u001b[0m\u001b[0;36m15\u001b[0m\u001b[0;34m,\u001b[0m\u001b[0;36m5\u001b[0m\u001b[0;34m)\u001b[0m\u001b[0;34m)\u001b[0m\u001b[0;34m\u001b[0m\u001b[0;34m\u001b[0m\u001b[0m\n\u001b[0m\u001b[1;32m      2\u001b[0m \u001b[0mplt\u001b[0m\u001b[0;34m.\u001b[0m\u001b[0mplot\u001b[0m\u001b[0;34m(\u001b[0m\u001b[0mnorm_encoded_serie\u001b[0m\u001b[0;34m,\u001b[0m \u001b[0mlabel\u001b[0m\u001b[0;34m=\u001b[0m\u001b[0;34m\"Normal data\"\u001b[0m\u001b[0;34m)\u001b[0m\u001b[0;34m\u001b[0m\u001b[0;34m\u001b[0m\u001b[0m\n\u001b[1;32m      3\u001b[0m \u001b[0mplt\u001b[0m\u001b[0;34m.\u001b[0m\u001b[0mplot\u001b[0m\u001b[0;34m(\u001b[0m\u001b[0minf_encoded_serie\u001b[0m\u001b[0;34m,\u001b[0m \u001b[0mlabel\u001b[0m\u001b[0;34m=\u001b[0m\u001b[0;34m\"Infected data\"\u001b[0m\u001b[0;34m)\u001b[0m\u001b[0;34m\u001b[0m\u001b[0;34m\u001b[0m\u001b[0m\n\u001b[1;32m      4\u001b[0m \u001b[0mplt\u001b[0m\u001b[0;34m.\u001b[0m\u001b[0mlegend\u001b[0m\u001b[0;34m(\u001b[0m\u001b[0;34m)\u001b[0m\u001b[0;34m\u001b[0m\u001b[0;34m\u001b[0m\u001b[0m\n\u001b[1;32m      5\u001b[0m \u001b[0mplt\u001b[0m\u001b[0;34m.\u001b[0m\u001b[0mshow\u001b[0m\u001b[0;34m(\u001b[0m\u001b[0;34m)\u001b[0m\u001b[0;34m\u001b[0m\u001b[0;34m\u001b[0m\u001b[0m\n",
      "\u001b[0;31mNameError\u001b[0m: name 'plt' is not defined"
     ]
    }
   ],
   "source": [
    "plt.figure(figsize=(15,5))\n",
    "plt.plot(norm_encoded_serie, label=\"Normal data\")\n",
    "plt.plot(inf_encoded_serie, label=\"Infected data\")\n",
    "plt.legend()\n",
    "plt.show()"
   ]
  },
  {
   "cell_type": "markdown",
   "metadata": {},
   "source": [
    "# Botnet profiling"
   ]
  },
  {
   "cell_type": "code",
   "execution_count": 20,
   "metadata": {},
   "outputs": [],
   "source": [
    "def create_markov_chain(levels, n_elements):    \n",
    "    # Use the zip function to help us generate sliding windows\n",
    "    # Concatentate the tokens into sliding windows            \n",
    "    sliding_windows = list(zip(*[levels[i:] for i in range(n_elements)]))\n",
    "    markov_chain = {}\n",
    "    for sliding_window in sliding_windows:\n",
    "        last_element = sliding_window[-1]\n",
    "        window_base = sliding_window[:-1]\n",
    "        if window_base not in markov_chain:\n",
    "            markov_chain.update({window_base: {}})\n",
    "            \n",
    "        known_transitions = markov_chain[window_base]\n",
    "        if last_element not in known_transitions:\n",
    "            known_transitions.update({last_element: 1})\n",
    "        else:\n",
    "            known_transitions[last_element] += 1\n",
    "    return markov_chain\n",
    "\n",
    "\n",
    "def classify_using_markov_chain(training, test_sets, threshold, n_elements):\n",
    "    markov_chain = create_markov_chain(training, n_elements)\n",
    "    \n",
    "    # We need to set the first n_elements - 1 values to normal, \n",
    "    # because we detect abnormalities for the last element of the sequence.\n",
    "    # If a certain index is abnormal, it is thus actually index + n_elements - 1,\n",
    "    detected_list = [0]*(n_elements - 1)\n",
    "    \n",
    "    for test_set in test_sets:\n",
    "        length = len(test_set)\n",
    "        for i in range(length):\n",
    "            if i >= length - n_elements:\n",
    "                # Take the last n_elements values into account if \n",
    "                # we are at the end\n",
    "                sequence = test_set[-n_elements:]\n",
    "            else:\n",
    "                sequence = test_set[i:i+n_elements]\n",
    "\n",
    "            base = tuple(sequence[:-1])\n",
    "            head = sequence[-1]\n",
    "\n",
    "            if base not in markov_chain:\n",
    "                markov_chain.update({base: {}})\n",
    "                \n",
    "            last_elements = markov_chain[base]\n",
    "\n",
    "            # Apply smoothing for unknown elements\n",
    "            if head not in last_elements:\n",
    "                last_elements.update({head: 1})\n",
    "                \n",
    "            base_occurences = sum(last_elements.values())\n",
    "            occurences = last_elements[head]\n",
    "            sequence_probability = occurences / base_occurences\n",
    "            \n",
    "            if sequence_probability < threshold or math.isclose(sequence_probability, threshold):        \n",
    "                detected_list.append(1)\n",
    "            else:\n",
    "                detected_list.append(0)\n",
    "                \n",
    "        plt.figure()\n",
    "        plt.plot(detected_list[:-(n_elements-1)])\n",
    "        plt.hlines(threshold, 0, len(detected_list))\n",
    "        plt.show()"
   ]
  },
  {
   "cell_type": "code",
   "execution_count": 26,
   "metadata": {},
   "outputs": [
    {
     "ename": "SyntaxError",
     "evalue": "invalid syntax (<ipython-input-26-df84a69148d5>, line 3)",
     "output_type": "error",
     "traceback": [
      "\u001b[0;36m  File \u001b[0;32m\"<ipython-input-26-df84a69148d5>\"\u001b[0;36m, line \u001b[0;32m3\u001b[0m\n\u001b[0;31m    for ip in normal_ip +\u001b[0m\n\u001b[0m                          ^\u001b[0m\n\u001b[0;31mSyntaxError\u001b[0m\u001b[0;31m:\u001b[0m invalid syntax\n"
     ]
    }
   ],
   "source": [
    "training = infected_data\n",
    "tests = data10\n",
    "for ip in normal_ip + \n",
    "print(data10)\n",
    "\n",
    "print()\n",
    "\n",
    "classify_using_markov_chain(training, tests, 0.5, 5)"
   ]
  },
  {
   "cell_type": "code",
   "execution_count": null,
   "metadata": {},
   "outputs": [],
   "source": []
  }
 ],
 "metadata": {
  "kernelspec": {
   "display_name": "Python 3",
   "language": "python",
   "name": "python3"
  },
  "language_info": {
   "codemirror_mode": {
    "name": "ipython",
    "version": 3
   },
   "file_extension": ".py",
   "mimetype": "text/x-python",
   "name": "python",
   "nbconvert_exporter": "python",
   "pygments_lexer": "ipython3",
   "version": "3.6.8"
  }
 },
 "nbformat": 4,
 "nbformat_minor": 2
}
