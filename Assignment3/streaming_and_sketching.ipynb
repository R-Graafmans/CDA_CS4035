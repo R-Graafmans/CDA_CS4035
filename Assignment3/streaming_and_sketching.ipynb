{
 "cells": [
  {
   "cell_type": "markdown",
   "metadata": {},
   "source": [
    "# Imports\n"
   ]
  },
  {
   "cell_type": "code",
   "execution_count": 1,
   "metadata": {},
   "outputs": [],
   "source": [
    "import random\n",
    "import time\n",
    "import pprint\n",
    "from operator import itemgetter\n",
    "\n",
    "import pandas as pd\n",
    "import numpy as np\n",
    "import matplotlib.pyplot as plt\n",
    "import seaborn as sns"
   ]
  },
  {
   "cell_type": "markdown",
   "metadata": {},
   "source": [
    "# Import data"
   ]
  },
  {
   "cell_type": "code",
   "execution_count": 2,
   "metadata": {},
   "outputs": [],
   "source": [
    "raw_data6 = pd.read_csv('data/scenario6.labeled', delimiter='\\s+', low_memory=False)"
   ]
  },
  {
   "cell_type": "code",
   "execution_count": 3,
   "metadata": {},
   "outputs": [],
   "source": [
    "def parse_data(raw):\n",
    "    data = raw\n",
    "    data['Date'] = data['Date'].map(str) + \" \" + data['flow']\n",
    "\n",
    "    src_ip_port = data['Prot'].map(str).str.split(':', n=1, expand = True)\n",
    "    dst_ip_port = data['IP'].map(str).str.split(':', n=1, expand = True)\n",
    "    data['src_ip'] = src_ip_port[0]\n",
    "    data['src_port'] = src_ip_port[1]\n",
    "    data['dst_ip'] = dst_ip_port[0]\n",
    "    data['dst_port'] = dst_ip_port[1]\n",
    "\n",
    "    data.drop(['flow', 'Src','Packets', 'Bytes', 'Flows', 'Prot', 'IP', 'Label', 'Labels'], axis=1, inplace=True)\n",
    "    data.rename(columns={'start':'duration', 'Date':'start','Durat':'protocol', 'Addr:Port':'flags', 'Dst':'tos', 'IP.1':'packets', 'Addr:Port.1':'bytes', 'Flags':'flows', 'Tos':'label'}, inplace=True)\n",
    "    data.sort_values(by='start', inplace=True)\n",
    "    \n",
    "    return data"
   ]
  },
  {
   "cell_type": "code",
   "execution_count": 4,
   "metadata": {},
   "outputs": [],
   "source": [
    "data6 = parse_data(raw_data6)"
   ]
  },
  {
   "cell_type": "markdown",
   "metadata": {},
   "source": [
    "# Sampling"
   ]
  },
  {
   "cell_type": "markdown",
   "metadata": {},
   "source": [
    "### Obtain IP addresses to sample"
   ]
  },
  {
   "cell_type": "code",
   "execution_count": 5,
   "metadata": {},
   "outputs": [
    {
     "name": "stdout",
     "output_type": "stream",
     "text": [
      "IP 147.32.84.165 sends packets to 1582 unique IP addresses.\n"
     ]
    }
   ],
   "source": [
    "# Select the applicable rows\n",
    "df = data6\n",
    "infected_ip = '147.32.84.165'\n",
    "\n",
    "src_rows_with_infected_ip = df[df['src_ip'] == infected_ip]\n",
    "dst_df = src_rows_with_infected_ip['dst_ip']\n",
    "from_infected = dst_df.values\n",
    "\n",
    "dst_rows_with_infected_ip = df[df['dst_ip'] == infected_ip]\n",
    "src_df = dst_rows_with_infected_ip['src_ip']\n",
    "to_infected = src_df.values\n",
    "\n",
    "nr_of_unique_ips = len(np.unique(from_infected))\n",
    "\n",
    "print(f'IP {infected_ip} sends packets to {nr_of_unique_ips} unique IP addresses.')    "
   ]
  },
  {
   "cell_type": "markdown",
   "metadata": {},
   "source": [
    "### Reservoir Sampling\n"
   ]
  },
  {
   "cell_type": "markdown",
   "metadata": {},
   "source": [
    "Estimate the distribution over the other IP_addresses, what are the 10 most frequent values?\n",
    "Write code for RESERVOIR sampling, use it to estimate the distribution in one pass (no need to\n",
    "actually stream the data, you may store it in memory, or run every file separately, but do store\n",
    "and load the intermediate results). Use a range of reservoir sizes. What are the 10 most frequent\n",
    "IP-addresses and their frequencies when sampled? Use the theory to explain any approximation\n",
    "errors you observe"
   ]
  },
  {
   "cell_type": "code",
   "execution_count": 6,
   "metadata": {},
   "outputs": [],
   "source": [
    "# random_replace replaces a random element in sample with ip\n",
    "def random_replace(sample, ip):\n",
    "    r = random.randint(0, len(sample) - 1)\n",
    "    sample[r] = ip    \n",
    "\n",
    "# reservoir_sample performs reservoir sampling on the stream\n",
    "def reservoir_sample(stream, reservoir_size):\n",
    "    sample = []\n",
    "    for i, ip in enumerate(stream):\n",
    "        if i < reservoir_size:\n",
    "            # Fill sample first\n",
    "            sample.append(ip)\n",
    "        else:\n",
    "            # Probability that the next item should be sampled\n",
    "            proba = reservoir_size / (i + 1)\n",
    "            # Draw random number, if smaller than proba it should be sampled\n",
    "            r = random.random()\n",
    "            if r <= proba:\n",
    "                # Element should be sampled\n",
    "                random_replace(sample, ip)\n",
    "    return sample\n",
    "\n",
    "# aggregate counts the occurences per IP\n",
    "def aggregate(ips, return_n_best=None):\n",
    "    counts = {}\n",
    "    for ip in ips:\n",
    "        if ip not in counts:\n",
    "            counts.update({ip: 0})\n",
    "        counts[ip] += 1\n",
    "    if return_n_best is None:\n",
    "        return counts\n",
    "    else:\n",
    "        counts = counts.items()\n",
    "        return sorted(counts, key=itemgetter(1), reverse=True)[:return_n_best]    \n",
    "\n",
    "# overlap computes the number of elements which are estimated 'correctly'\n",
    "def overlap(real, estimate):\n",
    "    real = set([ip for (ip, _) in real])\n",
    "    estimate = [ip for (ip, _) in estimate]\n",
    "    count = 0\n",
    "    for e in estimate:\n",
    "        if e in real:\n",
    "            count +=1            \n",
    "    return count\n",
    "\n",
    "# Create a largest-first distribution from the number of occurences per IP\n",
    "def distribution_from_counts_dict(d: dict):\n",
    "    counts_list = [v for v in d.values()]\n",
    "    return sorted(counts_list, reverse=True)"
   ]
  },
  {
   "cell_type": "code",
   "execution_count": 7,
   "metadata": {},
   "outputs": [
    {
     "name": "stdout",
     "output_type": "stream",
     "text": [
      "[('91.212.135.158', 36), ('64.59.134.8', 17), ('74.205.4.13', 14), ('65.55.92.168', 12), ('65.55.92.136', 12), ('65.55.37.72', 12), ('216.32.180.22', 10), ('65.55.37.120', 9), ('65.54.188.110', 9), ('24.71.223.11', 9)]\n"
     ]
    },
    {
     "data": {
      "image/png": "[encoded data removed]",
      "text/plain": [
       "<Figure size 432x288 with 1 Axes>"
      ]
     },
     "metadata": {
      "needs_background": "light"
     },
     "output_type": "display_data"
    }
   ],
   "source": [
    "reservoir_size = 500\n",
    "\n",
    "# Real distribution\n",
    "real = aggregate(from_infected)\n",
    "real_distribution = distribution_from_counts_dict(real)[:reservoir_size]\n",
    "real_total = sum(real_distribution)\n",
    "real_normalized = [e/real_total for e in real_distribution]\n",
    "\n",
    "sample = reservoir_sample(from_infected, reservoir_size)\n",
    "estimated = aggregate(sample)\n",
    "\n",
    "# We are interested in the distribution, are the normalized values ditributed as in the real sample?\n",
    "estimated_distribution = distribution_from_counts_dict(estimated)\n",
    "estimated_total = sum(estimated_distribution)\n",
    "estimated_normalized = [e/estimated_total for e in estimated_distribution]\n",
    "\n",
    "print(aggregate(sample, 10))\n",
    "\n",
    "# Plot the distribution\n",
    "plt.figure()\n",
    "plt.plot(real_normalized, label='Real', color='red')\n",
    "plt.plot(estimated_normalized , label='Estimated', color='blue')\n",
    "plt.xlabel('IP index')\n",
    "plt.ylabel('Normalized Overlap')\n",
    "plt.title('Normalized distribution of most frequent samples')\n",
    "plt.legend()\n",
    "plt.show()"
   ]
  },
  {
   "cell_type": "code",
   "execution_count": 8,
   "metadata": {},
   "outputs": [
    {
     "name": "stdout",
     "output_type": "stream",
     "text": [
      "Real 10 most frequent values:\n",
      "[('91.212.135.158', 384),\n",
      " ('64.59.134.8', 194),\n",
      " ('24.71.223.11', 160),\n",
      " ('216.32.180.22', 154),\n",
      " ('65.55.37.72', 96),\n",
      " ('65.55.37.88', 94),\n",
      " ('65.55.92.136', 93),\n",
      " ('65.55.92.168', 90),\n",
      " ('65.55.92.152', 90),\n",
      " ('202.108.252.141', 89)]\n",
      "\n",
      "Estimated 10 most frequent values:\n",
      "[('91.212.135.158', 22),\n",
      " ('24.71.223.11', 11),\n",
      " ('65.54.188.110', 8),\n",
      " ('65.55.37.88', 7),\n",
      " ('65.55.92.152', 7),\n",
      " ('64.59.134.8', 7),\n",
      " ('206.46.232.11', 6),\n",
      " ('65.55.92.168', 6),\n",
      " ('72.14.213.27', 5),\n",
      " ('202.108.252.141', 4)]\n",
      "7\n"
     ]
    }
   ],
   "source": [
    "best_n = 10\n",
    "# To get a nice estimate per reservoir size, we need to repeat this experiment very often.\n",
    "n_runs = 500\n",
    "reservoir_sizes = [1, 50, 100, 150, 200, 250, 300, 350, 400, 450, 500, 550, 600, 650, 700]\n",
    "\n",
    "# Calculate the real 10 most occurring values\n",
    "real = aggregate(from_infected, best_n)\n",
    "print(f'Real {best_n} most frequent values:')\n",
    "pprint.pprint(real)\n",
    "\n",
    "# Calculate the sampled 10 most occurring values\n",
    "sample = reservoir_sample(from_infected, 300)\n",
    "estimated = aggregate(sample, best_n)\n",
    "print(f'\\nEstimated {best_n} most frequent values:')\n",
    "pprint.pprint(estimated)\n",
    "\n",
    "print('Overlap between real and estimate:', overlap(real, estimated))\n",
    "ip_overlaps = []\n",
    "\n",
    "# Print the execution times, calculate the average overlaps\n",
    "for reservoir_size in reservoir_sizes:\n",
    "    ip_overlap = 0\n",
    "    t = time.time()\n",
    "    for _ in range(n_runs):\n",
    "        sample = reservoir_sample(from_infected, reservoir_size)\n",
    "        estimated = aggregate(sample, best_n)\n",
    "        ip_overlap += overlap(real, estimated)\n",
    "    ip_overlap /= n_runs\n",
    "    ip_overlaps.append(ip_overlap)\n",
    "    # For the execution time per run:\n",
    "    print((time.time() - t)/n_runs)"
   ]
  },
  {
   "cell_type": "code",
   "execution_count": 9,
   "metadata": {},
   "outputs": [
    {
     "data": {
      "image/png": "[encoded data removed]",
      "text/plain": [
       "<Figure size 432x288 with 1 Axes>"
      ]
     },
     "metadata": {
      "needs_background": "light"
     },
     "output_type": "display_data"
    }
   ],
   "source": [
    "# Plot the (on average) growing overlap when increasing the reservoir size\n",
    "plt.figure()\n",
    "plt.plot(ip_overlaps)\n",
    "plt.xticks(np.arange(len(reservoir_sizes)), reservoir_sizes, rotation=30)\n",
    "plt.xlabel('Reservoir size')\n",
    "plt.ylabel('Overlap')\n",
    "plt.title(f'Overlap for different reservoir sizes over {n_runs} runs')\n",
    "plt.show()"
   ]
  },
  {
   "cell_type": "markdown",
   "metadata": {},
   "source": [
    "# Sketching"
   ]
  },
  {
   "cell_type": "markdown",
   "metadata": {},
   "source": [
    "Build code for computing a COUNT-MIN sketch, play with different heights and widths for the Count-Min sketch matrix. Compare it to the RESERVOIR sampling strategy. Is it more spaceefficient/accurate? What about run-time? Use the theory to explain any differences you observe."
   ]
  },
  {
   "cell_type": "markdown",
   "metadata": {},
   "source": [
    "### COUNT-MIN Sketch"
   ]
  },
  {
   "cell_type": "code",
   "execution_count": 10,
   "metadata": {},
   "outputs": [],
   "source": [
    "# This function returns a (semi)unique hash function. \n",
    "# A new hash function is created based on the built-in hash function,\n",
    "# but with a seeded random mask. Based on a stackoverflow code snippet.\n",
    "# source: https://stackoverflow.com/questions/2255604/hash-functions-family-generator-in-python\n",
    "def hash_function(n, w):\n",
    "    random.seed(n)\n",
    "    mask = random.getrandbits(64)\n",
    "        \n",
    "    def myhash(x):\n",
    "        return (hash(x) ^ mask) % w\n",
    "    \n",
    "    return myhash\n",
    "\n",
    "# Create a matrix with counts\n",
    "def count_min_sketch(stream, w, d):\n",
    "    cm = np.zeros((d, w), dtype=int)\n",
    "    hash_functions = [hash_function(i, w) for i in range(d)]\n",
    "    for e in stream:\n",
    "        for i, hi in enumerate(hash_functions):\n",
    "            v = hi(e)\n",
    "            cm[i, v] += 1\n",
    "    return cm, hash_functions\n",
    "\n",
    "# Estimate occurence of a list of ips\n",
    "def estimate_occurences(cm, hash_functions, ips):\n",
    "    res = []\n",
    "    for ip in ips:\n",
    "        min_occurence = None\n",
    "        for i, hi in enumerate(hash_functions):\n",
    "            v = cm[i, hi(ip)]\n",
    "            if min_occurence is None or min_occurence > v:\n",
    "                min_occurence = v\n",
    "        res.append((ip, min_occurence))\n",
    "    return res"
   ]
  },
  {
   "cell_type": "code",
   "execution_count": 11,
   "metadata": {},
   "outputs": [
    {
     "name": "stdout",
     "output_type": "stream",
     "text": [
      "[('91.212.135.158', 426), ('24.71.223.11', 255), ('64.59.134.8', 224), ('216.32.180.22', 188), ('65.55.37.88', 169), ('65.55.37.72', 168), ('204.232.236.212', 164), ('202.102.13.154', 139), ('136.158.6.42', 137), ('202.108.252.141', 134)]\n",
      "7\n",
      "0.00926455020904541\n",
      "0.026080431938171385\n",
      "0.05868424415588379\n",
      "0.2370791721343994\n",
      "0.4369898796081543\n",
      "4.300423398017883\n",
      "0.011364321708679199\n",
      "0.030443758964538575\n",
      "0.05284379482269287\n",
      "0.22588067054748534\n",
      "0.4474711608886719\n",
      "4.304728088378906\n",
      "0.008931145668029786\n",
      "0.026978321075439453\n",
      "0.0527415132522583\n",
      "0.2250540018081665\n",
      "0.42387556076049804\n",
      "4.512283625602723\n",
      "0.009304642677307129\n",
      "0.028254928588867186\n",
      "0.05020354270935059\n",
      "0.22498541355133056\n",
      "0.4266363000869751\n",
      "4.617710700035095\n",
      "0.008548951148986817\n",
      "0.026053214073181154\n",
      "0.04736437797546387\n",
      "0.23613772869110108\n",
      "0.46424129486083987\n",
      "4.83473614692688\n",
      "[('91.212.135.158', 384), ('64.59.134.8', 194), ('24.71.223.11', 160), ('216.32.180.22', 154), ('65.55.37.72', 96), ('65.55.37.88', 94), ('65.55.92.136', 93), ('65.55.92.168', 90), ('65.55.92.152', 90), ('202.108.252.141', 89)]\n"
     ]
    }
   ],
   "source": [
    "stream = from_infected\n",
    "# 50 runs takes a long time! Do not execute when not necessary ;)\n",
    "n_runs = 50\n",
    "\n",
    "# width\n",
    "w = 50\n",
    "# n_hash_functions, depth/height\n",
    "d = 5\n",
    "\n",
    "# Return matrix with counts and the used hash functions\n",
    "cm, hs = count_min_sketch(stream, w, d)\n",
    "# ips = [ip for (ip, occ) in real]\n",
    "unique_ips = np.unique(from_infected)\n",
    "estimates = sorted(estimate_occurences(cm, hs, unique_ips), key=itemgetter(1), reverse=True)\n",
    "print(estimates[:10])\n",
    "print(overlap(real, estimates[:10]))\n",
    "\n",
    "for w in [1, 10, 50, 100, 1000]:\n",
    "    for d in [1, 5, 10, 50, 100, 1000]:\n",
    "        t = time.time()\n",
    "        for _ in range(n_runs):\n",
    "            cm, hs = count_min_sketch(stream, w, d)\n",
    "            unique_ips = np.unique(from_infected)\n",
    "            estimates = sorted(estimate_occurences(cm, hs, unique_ips), key=itemgetter(1), reverse=True)\n",
    "    #         print(f'{w}, {d}, {overlap(real, estimates[:10])}, {estimates[:10][0][1]}')\n",
    "        print((time.time() - t)/n_runs)\n",
    "\n",
    "print(real)"
   ]
  }
 ],
 "metadata": {
  "kernelspec": {
   "display_name": "Python 3",
   "language": "python",
   "name": "python3"
  },
  "language_info": {
   "codemirror_mode": {
    "name": "ipython",
    "version": 3
   },
   "file_extension": ".py",
   "mimetype": "text/x-python",
   "name": "python",
   "nbconvert_exporter": "python",
   "pygments_lexer": "ipython3",
   "version": "3.6.8"
  }
 },
 "nbformat": 4,
 "nbformat_minor": 2
}
