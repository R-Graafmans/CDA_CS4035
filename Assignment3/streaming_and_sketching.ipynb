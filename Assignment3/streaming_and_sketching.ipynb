{
 "cells": [
  {
   "cell_type": "markdown",
   "metadata": {},
   "source": [
    "# Imports\n"
   ]
  },
  {
   "cell_type": "code",
   "execution_count": 16,
   "metadata": {},
   "outputs": [],
   "source": [
    "import random\n",
    "import time\n",
    "import pprint\n",
    "from operator import itemgetter\n",
    "\n",
    "import pandas as pd\n",
    "import numpy as np\n",
    "import matplotlib.pyplot as plt\n",
    "import seaborn as sns"
   ]
  },
  {
   "cell_type": "markdown",
   "metadata": {},
   "source": [
    "# Import data"
   ]
  },
  {
   "cell_type": "code",
   "execution_count": 2,
   "metadata": {},
   "outputs": [],
   "source": [
    "raw_data6 = pd.read_csv('data/scenario6.labeled', delimiter='\\s+', low_memory=False)\n",
    "# raw_data10 = pd.read_csv('data/scenario10.labeled', delimiter='\\s+')"
   ]
  },
  {
   "cell_type": "code",
   "execution_count": 3,
   "metadata": {},
   "outputs": [],
   "source": [
    "def parse_data(raw):\n",
    "    data = raw\n",
    "    data['Date'] = data['Date'].map(str) + \" \" + data['flow']\n",
    "\n",
    "    src_ip_port = data['Prot'].map(str).str.split(':', n=1, expand = True)\n",
    "    dst_ip_port = data['IP'].map(str).str.split(':', n=1, expand = True)\n",
    "    data['src_ip'] = src_ip_port[0]\n",
    "    data['src_port'] = src_ip_port[1]\n",
    "    data['dst_ip'] = dst_ip_port[0]\n",
    "    data['dst_port'] = dst_ip_port[1]\n",
    "\n",
    "    data.drop(['flow', 'Src','Packets', 'Bytes', 'Flows', 'Prot', 'IP', 'Label', 'Labels'], axis=1, inplace=True)\n",
    "    data.rename(columns={'start':'duration', 'Date':'start','Durat':'protocol', 'Addr:Port':'flags', 'Dst':'tos', 'IP.1':'packets', 'Addr:Port.1':'bytes', 'Flags':'flows', 'Tos':'label'}, inplace=True)\n",
    "    data.sort_values(by='start', inplace=True)\n",
    "    \n",
    "    return data"
   ]
  },
  {
   "cell_type": "code",
   "execution_count": 4,
   "metadata": {},
   "outputs": [
    {
     "name": "stdout",
     "output_type": "stream",
     "text": [
      "                     start  duration protocol flags  tos  packets    bytes  \\\n",
      "0  2011-08-16 10:01:46.972     4.933      TCP    A_    0      537    37374   \n",
      "1  2011-08-16 10:01:46.974     4.929      TCP   PA_    0      936  1417104   \n",
      "2  2011-08-16 10:01:46.974     4.999      TCP   PA_    0      949   208122   \n",
      "3  2011-08-16 10:01:46.976     0.000      UDP   INT    0        1      174   \n",
      "4  2011-08-16 10:01:46.977     0.009      TCP   RA_    0        4      264   \n",
      "\n",
      "   flows       label           src_ip src_port         dst_ip dst_port  \n",
      "0      1  Background    88.176.79.163    49213  147.32.84.172    18250  \n",
      "1      1  Background    147.32.84.172    18250  88.176.79.163    49213  \n",
      "2      1  Background    147.32.85.112       22   85.70.14.207    10005  \n",
      "3      1  Background      90.178.10.8    61997  147.32.84.229    13363  \n",
      "4      1  Background  117.211.100.130    43458   147.32.86.92       80  \n",
      "['Background' 'LEGITIMATE' 'Botnet']\n"
     ]
    }
   ],
   "source": [
    "data6 = parse_data(raw_data6)\n",
    "print(data6.head())\n",
    "print(data6['label'].unique())"
   ]
  },
  {
   "cell_type": "markdown",
   "metadata": {},
   "source": [
    "# Sampling"
   ]
  },
  {
   "cell_type": "markdown",
   "metadata": {},
   "source": [
    "### Obtain IP addresses to sample"
   ]
  },
  {
   "cell_type": "code",
   "execution_count": 5,
   "metadata": {},
   "outputs": [
    {
     "name": "stdout",
     "output_type": "stream",
     "text": [
      "IP 147.32.84.165 sends packets to 1582 unique IP addresses.\n"
     ]
    }
   ],
   "source": [
    "df = data6\n",
    "infected_ip = '147.32.84.165'\n",
    "\n",
    "src_rows_with_infected_ip = df[df['src_ip'] == infected_ip]\n",
    "dst_df = src_rows_with_infected_ip['dst_ip']\n",
    "from_infected = dst_df.values\n",
    "\n",
    "dst_rows_with_infected_ip = df[df['dst_ip'] == infected_ip]\n",
    "src_df = dst_rows_with_infected_ip['src_ip']\n",
    "to_infected = src_df.values\n",
    "\n",
    "nr_of_unique_ips = len(np.unique(from_infected))\n",
    "\n",
    "print(f'IP {infected_ip} sends packets to {nr_of_unique_ips} unique IP addresses.')    "
   ]
  },
  {
   "cell_type": "markdown",
   "metadata": {},
   "source": [
    "### Reservoir Sampling\n"
   ]
  },
  {
   "cell_type": "markdown",
   "metadata": {},
   "source": [
    "Estimate the distribution over the other IP_addresses, what are the 10 most frequent values?\n",
    "Write code for RESERVOIR sampling, use it to estimate the distribution in one pass (no need to\n",
    "actually stream the data, you may store it in memory, or run every file separately, but do store\n",
    "and load the intermediate results). Use a range of reservoir sizes. What are the 10 most frequent\n",
    "IP-addresses and their frequencies when sampled? Use the theory to explain any approximation\n",
    "errors you observe\n",
    "\n",
    "Implemented correctly, explanation accurate"
   ]
  },
  {
   "cell_type": "code",
   "execution_count": 6,
   "metadata": {},
   "outputs": [],
   "source": [
    "# random_replace replaces a random element in sample with ip\n",
    "def random_replace(sample, ip):\n",
    "    r = random.randint(0, len(sample) - 1)\n",
    "    sample[r] = ip    \n",
    "\n",
    "# reservoir_sample performs reservoir sampling on the stream\n",
    "def reservoir_sample(stream, reservoir_size):\n",
    "    sample = []\n",
    "    for i, ip in enumerate(stream):\n",
    "        if i < reservoir_size:\n",
    "            # Fill sample first\n",
    "            sample.append(ip)\n",
    "        else:\n",
    "            # Probability that the next item should be sampled\n",
    "            proba = reservoir_size / (i + 1)\n",
    "            # Draw random number, if smaller than proba it should be sampled\n",
    "            r = random.random()\n",
    "            if r <= proba:\n",
    "                # Element should be sampled\n",
    "                random_replace(sample, ip)\n",
    "    return sample\n",
    "\n",
    "# aggregate counts the occurences per IP\n",
    "def aggregate(ips, return_n_best=None):\n",
    "    counts = {}\n",
    "    for ip in ips:\n",
    "        if ip not in counts:\n",
    "            counts.update({ip: 0})\n",
    "        counts[ip] += 1\n",
    "    if return_n_best is None:\n",
    "        return counts\n",
    "    else:\n",
    "        counts = counts.items()\n",
    "        return sorted(counts, key=itemgetter(1), reverse=True)[:return_n_best]    \n",
    "\n",
    "# overlap computes the number of elements which are estimated 'correctly'\n",
    "def overlap(real, estimate):\n",
    "    real = set([ip for (ip, _) in real])\n",
    "    estimate = [ip for (ip, _) in estimate]\n",
    "    count = 0\n",
    "    for e in estimate:\n",
    "        if e in real:\n",
    "            count +=1            \n",
    "    return count\n",
    "\n",
    "# Create a largest-first distribution from the number of occurences per IP\n",
    "def distribution_from_counts_dict(d: dict):\n",
    "    counts_list = [v for v in d.values()]\n",
    "    return sorted(counts_list, reverse=True)"
   ]
  },
  {
   "cell_type": "code",
   "execution_count": 15,
   "metadata": {},
   "outputs": [
    {
     "name": "stdout",
     "output_type": "stream",
     "text": [
      "[('91.212.135.158', 36), ('216.32.180.22', 18), ('64.59.134.8', 17), ('24.71.223.11', 16), ('65.55.37.88', 13), ('65.55.37.72', 12), ('65.55.92.168', 11), ('65.55.37.120', 10), ('65.55.37.104', 9), ('65.55.92.136', 8)]\n"
     ]
    },
    {
     "data": {
      "image/png": "[encoded data removed]",
      "text/plain": [
       "<Figure size 432x288 with 1 Axes>"
      ]
     },
     "metadata": {
      "needs_background": "light"
     },
     "output_type": "display_data"
    }
   ],
   "source": [
    "reservoir_size = 500\n",
    "\n",
    "# Real distribution\n",
    "real = aggregate(from_infected)\n",
    "real_distribution = distribution_from_counts_dict(real)[:reservoir_size]\n",
    "real_total = sum(real_distribution)\n",
    "# After 400, only 1 connection\n",
    "real_normalized = [e/real_total for e in real_distribution]\n",
    "\n",
    "sample = reservoir_sample(from_infected, reservoir_size)\n",
    "estimated = aggregate(sample)\n",
    "estimated_distribution = distribution_from_counts_dict(estimated)\n",
    "estimated_total = sum(estimated_distribution)\n",
    "estimated_normalized = [e/estimated_total for e in estimated_distribution]\n",
    "\n",
    "print(aggregate(sample, 10))\n",
    "\n",
    "plt.figure()\n",
    "plt.plot(real_normalized, label='Real', color='red')\n",
    "plt.plot(estimated_normalized , label='Estimated', color='blue')\n",
    "plt.xlabel('IP index')\n",
    "plt.ylabel('Normalized Overlap')\n",
    "plt.title('Normalized distribution of most frequent samples')\n",
    "plt.legend()\n",
    "plt.show()"
   ]
  },
  {
   "cell_type": "code",
   "execution_count": 18,
   "metadata": {},
   "outputs": [
    {
     "name": "stdout",
     "output_type": "stream",
     "text": [
      "Real 10 most frequent values:\n",
      "[('91.212.135.158', 384),\n",
      " ('64.59.134.8', 194),\n",
      " ('24.71.223.11', 160),\n",
      " ('216.32.180.22', 154),\n",
      " ('65.55.37.72', 96),\n",
      " ('65.55.37.88', 94),\n",
      " ('65.55.92.136', 93),\n",
      " ('65.55.92.168', 90),\n",
      " ('65.55.92.152', 90),\n",
      " ('202.108.252.141', 89)]\n",
      "\n",
      "Estimated 10 most frequent values:\n",
      "[('91.212.135.158', 18),\n",
      " ('216.32.180.22', 14),\n",
      " ('24.71.223.11', 8),\n",
      " ('64.59.134.8', 8),\n",
      " ('64.98.36.4', 8),\n",
      " ('206.46.232.11', 7),\n",
      " ('65.55.37.72', 7),\n",
      " ('65.55.92.168', 7),\n",
      " ('65.55.88.22', 5),\n",
      " ('65.55.92.152', 5)]\n",
      "7\n",
      "0.0009961476325988769\n",
      "0.0012835264205932617\n",
      "0.0014535813331604003\n",
      "0.0016290879249572755\n",
      "0.0017323555946350097\n",
      "0.0018410582542419433\n",
      "0.0020527896881103514\n",
      "0.002146296501159668\n",
      "0.0022318148612976074\n",
      "0.0023152084350585938\n",
      "0.0023806700706481936\n",
      "0.0025537309646606445\n",
      "0.002705146312713623\n",
      "0.002705805778503418\n",
      "0.0028881082534790038\n"
     ]
    }
   ],
   "source": [
    "best_n = 10\n",
    "n_runs = 500\n",
    "reservoir_sizes = [1, 50, 100, 150, 200, 250, 300, 350, 400, 450, 500, 550, 600, 650, 700]\n",
    "\n",
    "real = aggregate(from_infected, best_n)\n",
    "print(f'Real {best_n} most frequent values:')\n",
    "pprint.pprint(real)\n",
    "\n",
    "sample = reservoir_sample(from_infected, 300)\n",
    "estimated = aggregate(sample, best_n)\n",
    "print(f'\\nEstimated {best_n} most frequent values:')\n",
    "pprint.pprint(estimated)\n",
    "\n",
    "print(overlap(real, estimated))\n",
    "ip_overlaps = []\n",
    "for reservoir_size in reservoir_sizes:\n",
    "    ip_overlap = 0\n",
    "    t = time.time()\n",
    "    for _ in range(n_runs):\n",
    "        sample = reservoir_sample(from_infected, reservoir_size)\n",
    "        estimated = aggregate(sample, best_n)\n",
    "        ip_overlap += overlap(real, estimated)\n",
    "    ip_overlap /= n_runs\n",
    "    ip_overlaps.append(ip_overlap)\n",
    "    print((time.time() - t)/n_runs)\n",
    "#     print(f'Reservoir size {reservoir_size} average overlap for {best_n} most used ips: {ip_overlap}')"
   ]
  },
  {
   "cell_type": "code",
   "execution_count": 51,
   "metadata": {},
   "outputs": [
    {
     "data": {
      "image/png": "[encoded data removed]",
      "text/plain": [
       "<Figure size 432x288 with 1 Axes>"
      ]
     },
     "metadata": {
      "needs_background": "light"
     },
     "output_type": "display_data"
    }
   ],
   "source": [
    "plt.figure()\n",
    "plt.plot(ip_overlaps)\n",
    "plt.xticks(np.arange(len(reservoir_sizes)), reservoir_sizes, rotation=30)\n",
    "plt.xlabel('Reservoir size')\n",
    "plt.ylabel('Overlap')\n",
    "plt.title(f'Overlap for different reservoir sizes over {n_runs} runs')\n",
    "plt.show()"
   ]
  },
  {
   "cell_type": "markdown",
   "metadata": {},
   "source": [
    "# Sketching"
   ]
  },
  {
   "cell_type": "markdown",
   "metadata": {},
   "source": [
    "Build code for computing a COUNT-MIN sketch, play with different heights and widths for the Count-Min sketch matrix. Compare it to the RESERVOIR sampling strategy. Is it more spaceefficient/accurate? What about run-time? Use the theory to explain any differences you observe.\n",
    "\n",
    "Implemented correctly, analysis, and evaluation are sound"
   ]
  },
  {
   "cell_type": "markdown",
   "metadata": {},
   "source": [
    "### COUNT-MIN Sketch"
   ]
  },
  {
   "cell_type": "code",
   "execution_count": 20,
   "metadata": {},
   "outputs": [],
   "source": [
    "# _memomask = {}\n",
    "\n",
    "# This function returns a (semi)unique hash function. \n",
    "# A new hash function is created based on the built-in hash function,\n",
    "# but with a seeded random mask. Based on a stackoverflow code snippet.\n",
    "# source: https://stackoverflow.com/questions/2255604/hash-functions-family-generator-in-python\n",
    "def hash_function(n, w):\n",
    "    random.seed(n)\n",
    "    mask = random.getrandbits(64)\n",
    "        \n",
    "    def myhash(x):\n",
    "        return (hash(x) ^ mask) % w\n",
    "    \n",
    "    return myhash\n",
    "\n",
    "# Create a matrix with counts\n",
    "def count_min_sketch(stream, w, d):\n",
    "    cm = np.zeros((d, w), dtype=int)\n",
    "    hash_functions = [hash_function(i, w) for i in range(d)]\n",
    "    for e in stream:\n",
    "        for i, hi in enumerate(hash_functions):\n",
    "            v = hi(e)\n",
    "            cm[i, v] += 1\n",
    "    return cm, hash_functions\n",
    "\n",
    "# Estimate occurence of a list of ips\n",
    "def estimate_occurences(cm, hash_functions, ips):\n",
    "    res = []\n",
    "    for ip in ips:\n",
    "        min_occurence = None\n",
    "        for i, hi in enumerate(hash_functions):\n",
    "            v = cm[i, hi(ip)]\n",
    "            if min_occurence is None or min_occurence > v:\n",
    "                min_occurence = v\n",
    "        res.append((ip, min_occurence))\n",
    "    return res\n",
    "\n",
    "# w = 2 / epsilon\n",
    "# epsilon = 2 / w\n",
    "# d = log(1/delta)\n",
    "# Map hash function to [1...w]\n",
    "# resulting count is overestimate"
   ]
  },
  {
   "cell_type": "code",
   "execution_count": 22,
   "metadata": {},
   "outputs": [
    {
     "name": "stdout",
     "output_type": "stream",
     "text": [
      "[('91.212.135.158', 431), ('64.59.134.8', 235), ('216.32.180.22', 208), ('24.71.223.11', 203), ('202.108.252.141', 176), ('195.127.173.181', 166), ('65.55.37.72', 140), ('65.55.37.88', 136), ('65.55.37.120', 135), ('210.118.98.222', 134)]\n",
      "7\n",
      "0.008572068214416504\n",
      "0.026205997467041015\n",
      "0.047851090431213376\n",
      "0.21617923736572264\n",
      "0.42927133083343505\n",
      "4.306539006233216\n",
      "0.009407382011413574\n",
      "0.02781777858734131\n",
      "0.05003855705261231\n",
      "0.2237218999862671\n",
      "0.4359019660949707\n",
      "4.3478806734085085\n",
      "0.009077162742614745\n",
      "0.027012414932250976\n",
      "0.04872335433959961\n",
      "0.22358598232269286\n",
      "0.44070910930633544\n",
      "4.486610698699951\n",
      "0.009124402999877929\n",
      "0.02705778121948242\n",
      "0.04891417503356934\n",
      "0.22336661338806152\n",
      "0.44184175968170164\n",
      "4.466554727554321\n",
      "0.009291596412658691\n",
      "0.028227276802062988\n",
      "0.051187262535095215\n",
      "0.23522022247314453\n",
      "0.4679707860946655\n",
      "4.896372694969177\n",
      "[('91.212.135.158', 384), ('64.59.134.8', 194), ('24.71.223.11', 160), ('216.32.180.22', 154), ('65.55.37.72', 96), ('65.55.37.88', 94), ('65.55.92.136', 93), ('65.55.92.168', 90), ('65.55.92.152', 90), ('202.108.252.141', 89)]\n"
     ]
    }
   ],
   "source": [
    "stream = from_infected\n",
    "n_runs = 50\n",
    "\n",
    "# width\n",
    "w = 50\n",
    "# n_hash_functions, depth/height\n",
    "d = 5\n",
    "cm, hs = count_min_sketch(stream, w, d)\n",
    "# ips = [ip for (ip, occ) in real]\n",
    "unique_ips = np.unique(from_infected)\n",
    "estimates = sorted(estimate_occurences(cm, hs, unique_ips), key=itemgetter(1), reverse=True)\n",
    "print(estimates[:10])\n",
    "print(overlap(real, estimates[:10]))\n",
    "\n",
    "for w in [1, 10, 50, 100, 1000]:\n",
    "    for d in [1, 5, 10, 50, 100, 1000]:\n",
    "        t = time.time()\n",
    "        for _ in range(n_runs):\n",
    "            cm, hs = count_min_sketch(stream, w, d)\n",
    "            unique_ips = np.unique(from_infected)\n",
    "            estimates = sorted(estimate_occurences(cm, hs, unique_ips), key=itemgetter(1), reverse=True)\n",
    "    #         print(f'{w}, {d}, {overlap(real, estimates[:10])}, {estimates[:10][0][1]}')\n",
    "        print((time.time() - t)/n_runs)\n",
    "\n",
    "print(real)\n",
    "\n",
    "# for i, (ip, occ) in enumerate(real):\n",
    "#     print(f'IP: {ip}, real occurences: {occ}, predicted occurences: {estimates[i][1]}')"
   ]
  },
  {
   "cell_type": "code",
   "execution_count": 133,
   "metadata": {},
   "outputs": [
    {
     "name": "stdout",
     "output_type": "stream",
     "text": [
      "5724\n"
     ]
    }
   ],
   "source": [
    "print(len(from_infected))"
   ]
  }
 ],
 "metadata": {
  "kernelspec": {
   "display_name": "Python 3",
   "language": "python",
   "name": "python3"
  },
  "language_info": {
   "codemirror_mode": {
    "name": "ipython",
    "version": 3
   },
   "file_extension": ".py",
   "mimetype": "text/x-python",
   "name": "python",
   "nbconvert_exporter": "python",
   "pygments_lexer": "ipython3",
   "version": "3.6.8"
  }
 },
 "nbformat": 4,
 "nbformat_minor": 2
}
